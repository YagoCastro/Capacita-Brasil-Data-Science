{
 "cells": [
  {
   "cell_type": "markdown",
   "metadata": {},
   "source": [
    "# Oficina 1: Modelo de previsão de temperaturas"
   ]
  },
  {
   "cell_type": "markdown",
   "metadata": {},
   "source": [
    "# **Sumário**"
   ]
  },
  {
   "cell_type": "code",
   "execution_count": null,
   "metadata": {},
   "outputs": [],
   "source": []
  },
  {
   "cell_type": "markdown",
   "metadata": {},
   "source": [
    "<a id = ''> </a>\n",
    "\n",
    "# **Entendimento do Problema:**"
   ]
  },
  {
   "cell_type": "markdown",
   "metadata": {},
   "source": [
    "Você trabalha como cientista de dados em uma empresa de meteorologia que coleta dados diários de temperatura ao longo dos anos. O objetivo da empresa é prever a temperatura de amanhã com base nas temperaturas anteriores, para fornecer uma previsão mais precisa. Para isso, você decide usar uma rede neural do tipo LSTM (Long Short-Term Memory), que é adequada para lidar com dados sequenciais."
   ]
  },
  {
   "cell_type": "markdown",
   "metadata": {},
   "source": [
    "Seu objetivo nesta oficina é construir um modelo de deep learning utilizando uma rede neural LSTM que possa prever a temperatura do dia seguinte com base nas temperaturas dos últimos 30 dias."
   ]
  },
  {
   "cell_type": "markdown",
   "metadata": {},
   "source": [
    "\n",
    "# **Passo 1 - Preparação do Ambiente - Imports**"
   ]
  },
  {
   "cell_type": "code",
   "execution_count": 2,
   "metadata": {},
   "outputs": [
    {
     "ename": "ModuleNotFoundError",
     "evalue": "No module named 'tensorflow.python'",
     "output_type": "error",
     "traceback": [
      "\u001b[1;31m---------------------------------------------------------------------------\u001b[0m",
      "\u001b[1;31mModuleNotFoundError\u001b[0m                       Traceback (most recent call last)",
      "Cell \u001b[1;32mIn[2], line 9\u001b[0m\n\u001b[0;32m      6\u001b[0m \u001b[38;5;28;01mimport\u001b[39;00m\u001b[38;5;250m \u001b[39m\u001b[38;5;21;01mmatplotlib\u001b[39;00m\u001b[38;5;21;01m.\u001b[39;00m\u001b[38;5;21;01mpyplot\u001b[39;00m\u001b[38;5;250m \u001b[39m\u001b[38;5;28;01mas\u001b[39;00m\u001b[38;5;250m \u001b[39m\u001b[38;5;21;01mplt\u001b[39;00m\n\u001b[0;32m      8\u001b[0m \u001b[38;5;66;03m# \u001b[39;00m\n\u001b[1;32m----> 9\u001b[0m \u001b[38;5;28;01mfrom\u001b[39;00m\u001b[38;5;250m \u001b[39m\u001b[38;5;21;01mtensorflow\u001b[39;00m\u001b[38;5;21;01m.\u001b[39;00m\u001b[38;5;21;01mkeras\u001b[39;00m\u001b[38;5;21;01m.\u001b[39;00m\u001b[38;5;21;01mmodels\u001b[39;00m\u001b[38;5;250m \u001b[39m\u001b[38;5;28;01mimport\u001b[39;00m Sequential\n\u001b[0;32m     11\u001b[0m \u001b[38;5;28;01mfrom\u001b[39;00m\u001b[38;5;250m \u001b[39m\u001b[38;5;21;01mtensorflow\u001b[39;00m\u001b[38;5;21;01m.\u001b[39;00m\u001b[38;5;21;01mkeras\u001b[39;00m\u001b[38;5;21;01m.\u001b[39;00m\u001b[38;5;21;01mlayers\u001b[39;00m\u001b[38;5;250m \u001b[39m\u001b[38;5;28;01mimport\u001b[39;00m LSTM, Dense\n\u001b[0;32m     13\u001b[0m \u001b[38;5;28;01mfrom\u001b[39;00m\u001b[38;5;250m \u001b[39m\u001b[38;5;21;01msklearn\u001b[39;00m\u001b[38;5;21;01m.\u001b[39;00m\u001b[38;5;21;01mpreprocessing\u001b[39;00m\u001b[38;5;250m \u001b[39m\u001b[38;5;28;01mimport\u001b[39;00m MinMaxScaler\n",
      "File \u001b[1;32mc:\\Users\\Yago\\Desktop\\GitHubLocal\\Capacita-Brasil-Data-Science\\Avancado-Data-Science\\venv\\Lib\\site-packages\\tensorflow\\__init__.py:40\u001b[0m\n\u001b[0;32m     37\u001b[0m _os\u001b[38;5;241m.\u001b[39menviron\u001b[38;5;241m.\u001b[39msetdefault(\u001b[38;5;124m\"\u001b[39m\u001b[38;5;124mENABLE_RUNTIME_UPTIME_TELEMETRY\u001b[39m\u001b[38;5;124m\"\u001b[39m, \u001b[38;5;124m\"\u001b[39m\u001b[38;5;124m1\u001b[39m\u001b[38;5;124m\"\u001b[39m)\n\u001b[0;32m     39\u001b[0m \u001b[38;5;66;03m# Do not remove this line; See https://github.com/tensorflow/tensorflow/issues/42596\u001b[39;00m\n\u001b[1;32m---> 40\u001b[0m \u001b[38;5;28;01mfrom\u001b[39;00m\u001b[38;5;250m \u001b[39m\u001b[38;5;21;01mtensorflow\u001b[39;00m\u001b[38;5;21;01m.\u001b[39;00m\u001b[38;5;21;01mpython\u001b[39;00m\u001b[38;5;250m \u001b[39m\u001b[38;5;28;01mimport\u001b[39;00m pywrap_tensorflow \u001b[38;5;28;01mas\u001b[39;00m _pywrap_tensorflow  \u001b[38;5;66;03m# pylint: disable=unused-import\u001b[39;00m\n\u001b[0;32m     41\u001b[0m \u001b[38;5;28;01mfrom\u001b[39;00m\u001b[38;5;250m \u001b[39m\u001b[38;5;21;01mtensorflow\u001b[39;00m\u001b[38;5;21;01m.\u001b[39;00m\u001b[38;5;21;01mpython\u001b[39;00m\u001b[38;5;21;01m.\u001b[39;00m\u001b[38;5;21;01mtools\u001b[39;00m\u001b[38;5;250m \u001b[39m\u001b[38;5;28;01mimport\u001b[39;00m module_util \u001b[38;5;28;01mas\u001b[39;00m _module_util\n\u001b[0;32m     42\u001b[0m \u001b[38;5;28;01mfrom\u001b[39;00m\u001b[38;5;250m \u001b[39m\u001b[38;5;21;01mtensorflow\u001b[39;00m\u001b[38;5;21;01m.\u001b[39;00m\u001b[38;5;21;01mpython\u001b[39;00m\u001b[38;5;21;01m.\u001b[39;00m\u001b[38;5;21;01mutil\u001b[39;00m\u001b[38;5;21;01m.\u001b[39;00m\u001b[38;5;21;01mlazy_loader\u001b[39;00m\u001b[38;5;250m \u001b[39m\u001b[38;5;28;01mimport\u001b[39;00m KerasLazyLoader \u001b[38;5;28;01mas\u001b[39;00m _KerasLazyLoader\n",
      "\u001b[1;31mModuleNotFoundError\u001b[0m: No module named 'tensorflow.python'"
     ]
    }
   ],
   "source": [
    "import numpy as np\n",
    "\n",
    "import pandas as pd\n",
    "\n",
    "# Visualização de dados e métricas de desempenho\n",
    "import matplotlib.pyplot as plt\n",
    "\n",
    "# \n",
    "from tensorflow.keras.models import Sequential\n",
    "\n",
    "from tensorflow.keras.layers import LSTM, Dense\n",
    "\n",
    "from sklearn.preprocessing import MinMaxScaler"
   ]
  },
  {
   "cell_type": "markdown",
   "metadata": {},
   "source": [
    "\n",
    "# **Passo 1.1 - Estilo da Página**"
   ]
  },
  {
   "cell_type": "code",
   "execution_count": null,
   "metadata": {},
   "outputs": [],
   "source": []
  },
  {
   "cell_type": "markdown",
   "metadata": {},
   "source": []
  },
  {
   "cell_type": "markdown",
   "metadata": {},
   "source": [
    "<a id = ''> </a>\n",
    "\n",
    "# **Passo 2: Carregamento e Preparação dos Dados**\n",
    "\n",
    "Para simplificar, você pode usar um conjunto de dados fictício ou dados históricos reais de temperaturas médias diárias. Vamos criar um conjunto de dados fictício de temperaturas para os últimos 100 dias."
   ]
  },
  {
   "cell_type": "markdown",
   "metadata": {},
   "source": [
    "<a id = ''> </a>\n",
    "\n",
    "# Passo 2.1: Gerando os dados"
   ]
  },
  {
   "cell_type": "markdown",
   "metadata": {},
   "source": [
    "\n",
    "Código:\n",
    "\n",
    "$$ y = \\sin(\\text{linspace}(0, 20, 100)) \\cdot 10 + 25 + np.random.normal(0, 1, 100) $$\n",
    "\n",
    "Equação: \n",
    "\n",
    "$$\n",
    "y = 10 \\cdot \\sin(x) + 25 + \\varepsilon\n",
    "$$\n",
    "\n",
    "Onde:\n",
    "\n",
    "- ( x) é um conjunto de 100 valores igualmente espaçados no intervalo ([0,20]), ou seja,  \n",
    "x \\in \\text{linspace}(0,20,100)\n",
    "\n",
    "- $( \\sin(x) $) representa a função seno aplicada a esses valores.  \n",
    "- O termo $( 10 \\cdot \\sin(x) $) escala a amplitude da função seno.  \n",
    "- O valor $( 25 $) é um deslocamento vertical.  \n",
    "- $( \\varepsilon \\sim \\mathcal{N}(0,1) $) representa um ruído aleatório seguindo uma distribuição normal com média 0 e desvio padrão 1.\n"
   ]
  },
  {
   "cell_type": "markdown",
   "metadata": {},
   "source": [
    "$$\n",
    "\\textbf{A equação dada é:}\n",
    "$$\n",
    "$$\n",
    "y = 10 \\cdot \\sin(x) + 25 + \\varepsilon\n",
    "$$\n",
    "\n",
    "**Onde:**  \n",
    "- $x$ varia de $0$ a $20$ (100 valores espaçados uniformemente).  \n",
    "- $\\sin(x)$ oscila entre $[-1,1]$, então $10 \\cdot \\sin(x)$ oscila entre $[-10,10]$.  \n",
    "- O deslocamento $25$ eleva os valores para a faixa $[15,35]$ antes de adicionar o ruído.  \n",
    "- $\\varepsilon \\sim \\mathcal{N}(0,1)$, ou seja, é um ruído gaussiano com média 0 e desvio padrão 1.  \n",
    "\n",
    "$$\n",
    "\\textbf{Estimativa dos valores extremos de } y\n",
    "$$\n",
    "\n",
    "**Sem o ruído ($\\varepsilon = 0$):**  \n",
    "- O valor mínimo ocorre em $\\sin(x) = -1 \\Rightarrow 10 \\cdot (-1) + 25 = 15$.  \n",
    "- O valor máximo ocorre em $\\sin(x) = 1 \\Rightarrow 10 \\cdot (1) + 25 = 35$.  \n",
    "\n",
    "**Com o ruído $\\varepsilon \\sim \\mathcal{N}(0,1)$:**  \n",
    "- Como $\\varepsilon$ segue uma distribuição normal, ele geralmente está entre $[-3,3]$ (99,7% dos casos).  \n",
    "- Assim, os valores de $y$ estarão aproximadamente entre:  \n",
    "  $$\n",
    "  15 - 3 = 12 \\quad \\text{(mínimo provável)}\n",
    "  $$  \n",
    "  $$\n",
    "  35 + 3 = 38 \\quad \\text{(máximo provável)}\n",
    "  $$  \n"
   ]
  },
  {
   "cell_type": "code",
   "execution_count": 2,
   "metadata": {},
   "outputs": [],
   "source": [
    "# Gerando dados fictícios de temperaturas diárias para os últimos 100 dias\n",
    "\n",
    "# A temperatura segue uma onda senoidal com um pouco de ruído para simular variação real\n",
    "\n",
    "# Para garantir o mesmo resultado na geração dos dados sempre que o código for compilado é necessário garantir uma semente aleatório fixa.\n",
    "np.random.seed(42)\n",
    "\n",
    "data = np.sin(np.linspace(0, 20, 100)) * 10 + 25 + np.random.normal(0, 1, 100)"
   ]
  },
  {
   "cell_type": "code",
   "execution_count": 5,
   "metadata": {},
   "outputs": [
    {
     "name": "stdout",
     "output_type": "stream",
     "text": [
      "[25.49671415 26.86822426 29.57905466 32.21937093 31.99547224 33.23471868\n",
      " 35.94284007 35.64498165 34.52023733 35.23811954 33.54363677 32.48647082\n",
      " 31.81586474 28.01494018 26.35717234 25.54831285 23.08110741 22.42837675\n",
      " 19.34367482 17.17009492 18.63977374 15.85838113 15.42435704 13.59697403\n",
      " 14.54808485 15.67711001 15.27262031 18.00557044 18.53526149 20.58874794\n",
      " 22.19083364 26.64670222 26.7911721  27.68380138 31.34871962 30.86522433\n",
      " 33.56660932 32.32981417 33.51520053 35.19378464 35.48231647 34.26582772\n",
      " 32.95951676 31.42632134 28.62753479 27.55716288 25.85403112 25.35598262\n",
      " 22.65518703 18.67058497 19.06549614 16.91867592 15.50221568 16.02496922\n",
      " 16.06837309 15.99794969 14.66077185 16.01049593 17.82374893 19.94616508\n",
      " 20.21481644 22.4068431  23.48259999 25.4058807  29.36260293 31.70991268\n",
      " 31.86750522 34.24663622 34.57305107 34.15994608 35.36130541 36.32605853\n",
      " 34.14219451 34.75936012 29.25835909 31.10363752 28.55758601 26.21917638\n",
      " 24.59583938 20.52257545 20.39780949 19.26018355 18.91453835 15.75957594\n",
      " 14.66531534 14.55547868 15.96047211 15.76655771 15.68971133 17.87153914\n",
      " 18.90496564 21.47800462 21.69142836 24.05595748 26.00672003 26.89362648\n",
      " 30.4750281  32.05108494 33.13009036 33.89486537]\n"
     ]
    }
   ],
   "source": [
    "print(data)"
   ]
  },
  {
   "cell_type": "code",
   "execution_count": 8,
   "metadata": {},
   "outputs": [
    {
     "name": "stdout",
     "output_type": "stream",
     "text": [
      "13.596974033994417\n",
      "36.32605853415617\n"
     ]
    }
   ],
   "source": [
    "# Verificando os valor máximo e mínimo do conjunto:\n",
    "print(data.min())\n",
    "\n",
    "print(data.max())"
   ]
  },
  {
   "cell_type": "markdown",
   "metadata": {},
   "source": [
    "<a id = ''> </a>\n",
    "\n",
    "# Passo 2.2: Preparação dos Dados"
   ]
  },
  {
   "cell_type": "code",
   "execution_count": 10,
   "metadata": {},
   "outputs": [],
   "source": [
    "# Transformando os dados em um DataFrame para facilitar a manipulação:\n",
    "\n",
    "df = pd.DataFrame(data, columns=['Temperatura'])"
   ]
  },
  {
   "cell_type": "code",
   "execution_count": 11,
   "metadata": {},
   "outputs": [
    {
     "data": {
      "text/html": [
       "<div>\n",
       "<style scoped>\n",
       "    .dataframe tbody tr th:only-of-type {\n",
       "        vertical-align: middle;\n",
       "    }\n",
       "\n",
       "    .dataframe tbody tr th {\n",
       "        vertical-align: top;\n",
       "    }\n",
       "\n",
       "    .dataframe thead th {\n",
       "        text-align: right;\n",
       "    }\n",
       "</style>\n",
       "<table border=\"1\" class=\"dataframe\">\n",
       "  <thead>\n",
       "    <tr style=\"text-align: right;\">\n",
       "      <th></th>\n",
       "      <th>Temperatura</th>\n",
       "    </tr>\n",
       "  </thead>\n",
       "  <tbody>\n",
       "    <tr>\n",
       "      <th>0</th>\n",
       "      <td>25.496714</td>\n",
       "    </tr>\n",
       "    <tr>\n",
       "      <th>1</th>\n",
       "      <td>26.868224</td>\n",
       "    </tr>\n",
       "    <tr>\n",
       "      <th>2</th>\n",
       "      <td>29.579055</td>\n",
       "    </tr>\n",
       "    <tr>\n",
       "      <th>3</th>\n",
       "      <td>32.219371</td>\n",
       "    </tr>\n",
       "    <tr>\n",
       "      <th>4</th>\n",
       "      <td>31.995472</td>\n",
       "    </tr>\n",
       "  </tbody>\n",
       "</table>\n",
       "</div>"
      ],
      "text/plain": [
       "   Temperatura\n",
       "0    25.496714\n",
       "1    26.868224\n",
       "2    29.579055\n",
       "3    32.219371\n",
       "4    31.995472"
      ]
     },
     "execution_count": 11,
     "metadata": {},
     "output_type": "execute_result"
    }
   ],
   "source": [
    "# Exibindo as primeiras 5 linhas:\n",
    "df.head()"
   ]
  },
  {
   "cell_type": "code",
   "execution_count": null,
   "metadata": {},
   "outputs": [],
   "source": [
    "# Visualizando os dados de temperatura para ter uma ideia das tendências:\n"
   ]
  },
  {
   "cell_type": "markdown",
   "metadata": {},
   "source": [
    "# Passo 3: Pré-processamento dos Dados"
   ]
  },
  {
   "cell_type": "markdown",
   "metadata": {},
   "source": [
    "# Passo 4: Construção da Rede LSTM"
   ]
  },
  {
   "cell_type": "markdown",
   "metadata": {},
   "source": [
    "# Passo 5: Avaliação e Previsão"
   ]
  }
 ],
 "metadata": {
  "kernelspec": {
   "display_name": "venv",
   "language": "python",
   "name": "python3"
  },
  "language_info": {
   "codemirror_mode": {
    "name": "ipython",
    "version": 3
   },
   "file_extension": ".py",
   "mimetype": "text/x-python",
   "name": "python",
   "nbconvert_exporter": "python",
   "pygments_lexer": "ipython3",
   "version": "3.11.9"
  }
 },
 "nbformat": 4,
 "nbformat_minor": 2
}
