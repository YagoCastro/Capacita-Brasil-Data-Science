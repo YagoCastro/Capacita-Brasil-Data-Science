{
 "cells": [
  {
   "cell_type": "markdown",
   "metadata": {},
   "source": []
  },
  {
   "cell_type": "markdown",
   "metadata": {},
   "source": [
    "<a id=\"Q1\"> </a>\n",
    "# Questão 1\n",
    "No experimento sobre a classificação de tumores, usamos o algoritmo Random Forest para classificar tumores como benignos ou malignos. Esse algoritmo é composto por várias árvores de decisão independentes. Qual o parâmetro que define o número de árvores utilizadas no modelo?"
   ]
  },
  {
   "cell_type": "markdown",
   "metadata": {},
   "source": [
    "a.\n",
    "min_samples_split\n",
    "\n",
    "b.\n",
    "max_depth\n",
    "\n",
    "c.\n",
    "criterion\n",
    "\n",
    "d.\n",
    "n_estimators [V]"
   ]
  },
  {
   "cell_type": "markdown",
   "metadata": {},
   "source": [
    "<a id=\"Q2\"> </a>\n",
    "# Questão 2\n",
    "No dataset de câncer de mama utilizado, características como o raio médio e a área média dos núcleos celulares foram usadas para prever o diagnóstico. Qual foi a importância dessas características no processo de classificação?"
   ]
  },
  {
   "cell_type": "markdown",
   "metadata": {},
   "source": [
    "\n",
    "a.\n",
    "Ambas tiveram relevância na separação entre tumores benignos e malignos [V]\n",
    "\n",
    "b.\n",
    "Nenhuma das características foi relevante\n",
    "\n",
    "c.\n",
    "Apenas o raio médio foi relevante\n",
    "\n",
    "d.\n",
    "Apenas a área média foi relevante"
   ]
  },
  {
   "cell_type": "markdown",
   "metadata": {},
   "source": [
    "<a id=\"Q3\"> </a>\n",
    "# Questão 3\n",
    "Ao ajustar os parâmetros de um Random Forest, o que o parâmetro max_depth controla?\n",
    "Questão 3Resposta\n"
   ]
  },
  {
   "cell_type": "markdown",
   "metadata": {},
   "source": [
    "a.\n",
    "A aleatoriedade do modelo\n",
    "\n",
    "b.\n",
    "Profundidade máxima de cada árvore [v]\n",
    "\n",
    "c.\n",
    "O número mínimo de amostras para dividir um nó\n",
    "\n",
    "d.\n",
    "O número de árvores no modelo"
   ]
  },
  {
   "cell_type": "markdown",
   "metadata": {},
   "source": [
    "<a id=\"Q4\"> </a>\n",
    "# Questão 4\n",
    "\n",
    "Ao dividir os dados entre treino e teste, usamos a função train_test_split. Qual é o objetivo principal dessa divisão?"
   ]
  },
  {
   "cell_type": "markdown",
   "metadata": {},
   "source": [
    "\n",
    "a.\n",
    "Aumentar o número de árvores no modelo\n",
    "\n",
    "b.\n",
    "Aumentar a acurácia do modelo\n",
    "\n",
    "c.\n",
    "Avaliar o modelo com dados que ele não viu durante o treino [v]\n",
    "\n",
    "d.\n",
    "Eliminar dados redundantes"
   ]
  },
  {
   "cell_type": "markdown",
   "metadata": {},
   "source": [
    "<a id=\"Q5\"> </a>\n",
    "# Questão 5\n",
    "O parâmetro min_samples_leaf no Random Forest foi ajustado para 2 no experimento. O que esse parâmetro controla?"
   ]
  },
  {
   "cell_type": "markdown",
   "metadata": {},
   "source": [
    "\n",
    "a.\n",
    "O número mínimo de amostras necessárias para dividir um nó\n",
    "\n",
    "b.\n",
    "O número de árvores no modelo\n",
    "\n",
    "c.\n",
    "O número mínimo de amostras por folha [v]\n",
    "\n",
    "d.\n",
    "A profundidade máxima de cada árvore"
   ]
  },
  {
   "cell_type": "markdown",
   "metadata": {},
   "source": [
    "<a id=\"Q6\"> </a>\n",
    "# Questão 6\n",
    "Qual métrica avaliada no experimento indica o equilíbrio entre precisão e recall, sendo a média harmônica entre as duas?"
   ]
  },
  {
   "cell_type": "markdown",
   "metadata": {},
   "source": [
    "\n",
    "a.\n",
    "F1-Score [v]\n",
    "\n",
    "b.\n",
    "Acurácia\n",
    "\n",
    "c.\n",
    "Recall\n",
    "\n",
    "d.\n",
    "Precisão"
   ]
  },
  {
   "cell_type": "markdown",
   "metadata": {},
   "source": [
    "<a id=\"Q7\"> </a>\n",
    "# Questão 7\n",
    "Em relação ao ajuste de parâmetros, qual é o objetivo principal de limitar o valor de max_depth em modelos de árvores de decisão como o Random Forest?"
   ]
  },
  {
   "cell_type": "markdown",
   "metadata": {},
   "source": [
    "\n",
    "a.\n",
    "Aumentar a taxa de recall\n",
    "\n",
    "b.\n",
    "Evitar o underfitting\n",
    "\n",
    "c.\n",
    "Aumentar a precisão\n",
    "\n",
    "d.\n",
    "Evitar o overfitting"
   ]
  },
  {
   "cell_type": "markdown",
   "metadata": {},
   "source": [
    "O parâmetro max_depth controla a profundidade máxima das árvores no Random Forest. Se esse valor for muito alto, as árvores podem crescer excessivamente, ajustando-se demais aos dados de treinamento e capturando ruído, o que leva ao overfitting."
   ]
  },
  {
   "cell_type": "markdown",
   "metadata": {},
   "source": [
    "<a id=\"Q8\"> </a>\n",
    "# Questão 8\n",
    "No experimento, o parâmetro min_samples_split foi ajustado para 5. Qual a função desse parâmetro no Random Forest?"
   ]
  },
  {
   "cell_type": "markdown",
   "metadata": {},
   "source": [
    "a.\n",
    "Controlar a profundidade das árvores\n",
    "\n",
    "b.\n",
    "Definir a taxa de aprendizado do modelo\n",
    "\n",
    "c.\n",
    "Estabelecer o número mínimo de amostras para dividir um nó [v]\n",
    "\n",
    "d.\n",
    "Definir o número máximo de folhas"
   ]
  },
  {
   "cell_type": "markdown",
   "metadata": {},
   "source": [
    "<a id=\"Q9\"> </a>\n",
    "# Questão 9\n",
    "A visualização dos dados desempenhou um papel importante na análise do comportamento das variáveis. Qual visualização foi usada para observar a distribuição das características, separando benignos e malignos?"
   ]
  },
  {
   "cell_type": "markdown",
   "metadata": {},
   "source": [
    "a.\n",
    "Gráfico de Barras\n",
    "\n",
    "b.\n",
    "Histograma[v]\n",
    "\n",
    "\n",
    "c.\n",
    "Boxplot\n",
    "\n",
    "d.\n",
    "Gráfico de Dispersão"
   ]
  },
  {
   "cell_type": "markdown",
   "metadata": {},
   "source": [
    "<a id=\"Q10\"> </a>\n",
    "# Questão 10\n",
    "Ao usar o Random Forest no experimento, um dos benefícios citados foi a capacidade de lidar com dados não linearmente separáveis. Qual característica fundamental do Random Forest garante essa capacidade?\n",
    "Questão 10Resposta\n"
   ]
  },
  {
   "cell_type": "markdown",
   "metadata": {},
   "source": [
    "a.\n",
    "Uso de redes neurais\n",
    "\n",
    "b.\n",
    "Conjunto de árvores de decisão independentes [v]\n",
    "\n",
    "c.\n",
    "Uso de árvores com profundidade limitada\n",
    "\n",
    "d.\n",
    "Algoritmo baseado em gradiente"
   ]
  }
 ],
 "metadata": {
  "language_info": {
   "name": "python"
  }
 },
 "nbformat": 4,
 "nbformat_minor": 2
}
