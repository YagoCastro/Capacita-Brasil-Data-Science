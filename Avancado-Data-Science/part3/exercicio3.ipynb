{
 "cells": [
  {
   "cell_type": "markdown",
   "metadata": {},
   "source": [
    "Você está interagindo com um modelo de linguagem para realizar uma pesquisa escolar sobre biodiversidade. Você faz a seguinte pergunta: \"Me fale sobre os animais.\" No entanto, a resposta é vaga e generalizada, abrangendo uma variedade de informações irrelevantes. Qual é a melhor forma de ajustar seu prompt para obter uma resposta mais específica e útil?\n",
    "Questão 1Resposta\n",
    "\n",
    "a.\n",
    "Me diga algo interessante sobre animais.\n",
    "\n",
    "b.\n",
    "Quais são os principais animais do mundo?\n",
    "\n",
    "c.\n",
    "Quais são os mamíferos mais ameaçados de extinção no Brasil? [v]\n",
    "\n",
    "d.\n",
    "Explique a importância dos animais na cadeia alimentar."
   ]
  },
  {
   "cell_type": "markdown",
   "metadata": {},
   "source": [
    "Você está criando um projeto escolar e precisa que o LLM explique como a energia solar funciona. Ao pedir, você deseja que a explicação seja simples o suficiente para um colega de classe que ainda não entende bem o conceito. Qual prompt seria o mais adequado para essa situação?\n",
    "Questão 2Resposta\n",
    "\n",
    "a.\n",
    "Explique como a energia solar funciona de forma simples, como se estivesse falando para um estudante do ensino médio. [v]\n",
    "\n",
    "b.\n",
    "Me explique como a energia solar funciona com detalhes técnicos\n",
    "\n",
    "c.\n",
    "Descreva como a energia solar é capturada e utilizada em usinas.\n",
    "\n",
    "d.\n",
    "Fale sobre a importância da energia solar no mundo."
   ]
  },
  {
   "cell_type": "markdown",
   "metadata": {},
   "source": [
    "Você é um estudante de biologia e quer usar um LLM para entender como as células animais se diferenciam das células vegetais. Seu primeiro prompt foi \"Explique as diferenças entre células.\" A resposta foi muito ampla e não focou no que você queria. Qual seria uma melhoria eficaz no seu prompt?\n",
    "Questão 3Resposta\n",
    "\n",
    "a.\n",
    "Me diga o que são células.\n",
    "\n",
    "b.\n",
    "Quais são as organelas das células vegetais?\n",
    "\n",
    "c.\n",
    "Quais são as características das células?\n",
    "\n",
    "d.\n",
    "Explique as principais diferenças entre células animais e vegetais. [v]"
   ]
  },
  {
   "cell_type": "markdown",
   "metadata": {},
   "source": [
    "Você está interessado em entender mais sobre a importância da reciclagem de plástico. Você quer que a IA forneça uma resposta que explique o processo, focando em três etapas principais. Qual prompt seria o mais adequado?\n",
    "Questão 4Resposta\n",
    "\n",
    "a.\n",
    "Quais são os benefícios ambientais da reciclagem de plástico?\n",
    "\n",
    "b.\n",
    "Explique a importância da reciclagem de plástico.\n",
    "\n",
    "c.\n",
    "Explique as três principais etapas do processo de reciclagem de plástico. [v]\n",
    "\n",
    "d.\n",
    "Fale sobre o processo de reciclagem de plástico."
   ]
  },
  {
   "cell_type": "markdown",
   "metadata": {},
   "source": [
    "Você está utilizando um modelo de linguagem para estudar sobre aquecimento global e deseja uma explicação detalhada sobre as causas desse fenômeno. Após várias tentativas, você percebe que a IA ainda não está focando exatamente nas causas. Qual etapa do processo de criação de um bom prompt pode te ajudar a resolver esse problema?\n",
    "Questão 5Resposta\n",
    "\n",
    "a.\n",
    "Usar um prompt mais curto e direto\n",
    "\n",
    "b.\n",
    "Definir o objetivo do prompt\n",
    "\n",
    "c.\n",
    "Incluir detalhes e instruções específicas\n",
    "\n",
    "d.\n",
    "Adicionar mais perguntas dentro do mesmo prompt"
   ]
  },
  {
   "cell_type": "markdown",
   "metadata": {},
   "source": [
    "Você quer criar um prompt eficiente para que um modelo de linguagem explique como a eletricidade funciona. Para garantir que a resposta seja clara e adequada para seu nível de compreensão, você define que a explicação deve ser simples e que alguns exemplos práticos devem ser incluídos. Qual etapa do processo de criação de prompts você está utilizando ao fazer isso?\n",
    "Questão 6Resposta\n",
    "\n",
    "a.\n",
    "Usar um prompt genérico\n",
    "\n",
    "b.\n",
    "Adicionar contexto ao prompt [v]\n",
    "\n",
    "c.\n",
    "Testar e refinar o prompt\n",
    "\n",
    "d.\n",
    "Definir o objetivo do prompt"
   ]
  },
  {
   "cell_type": "markdown",
   "metadata": {},
   "source": [
    "Você está explicando a um colega o que é um \"prompt\" no contexto de interação com uma IA generativa. Como você definiria corretamente o conceito de prompt?\n",
    "Questão 7Resposta\n",
    "\n",
    "a.\n",
    "O tipo de resposta que a IA oferece ao usuário\n",
    "\n",
    "b.\n",
    "A capacidade da IA de entender perguntas complexas\n",
    "\n",
    "c.\n",
    "A instrução ou pergunta que você faz para a IA gerar uma resposta [v]\n",
    "\n",
    "d.\n",
    "O processo de treinar uma IA para responder melhor"
   ]
  },
  {
   "cell_type": "markdown",
   "metadata": {},
   "source": [
    "Você está explorando carreiras relacionadas à Inteligência Artificial e descobre a profissão de engenheiro de prompt. Esse profissional é responsável por formular e otimizar perguntas e comandos para obter as melhores respostas de modelos de linguagem. Qual das seguintes atividades melhor descreve o trabalho de um engenheiro de prompt?\n",
    "Questão 8Resposta\n",
    "\n",
    "a.\n",
    "Supervisionar a ética no uso de IA em diferentes setores\n",
    "\n",
    "b.\n",
    "Criar novos algoritmos para IA\n",
    "\n",
    "c.\n",
    "Desenvolver hardware especializado para IA\n",
    "\n",
    "d.\n",
    "Formular e testar instruções (prompts) para gerar respostas mais eficientes e precisas de IA [v]"
   ]
  },
  {
   "cell_type": "markdown",
   "metadata": {},
   "source": [
    "Você está tentando obter uma resposta clara de um modelo de linguagem, mas percebe que a IA está fornecendo respostas vagas e não focadas. Isso pode ser resultado de um prompt mal formulado. Qual das opções abaixo descreve um erro comum em prompts e o que faz um prompt ser considerado ruim?\n",
    "Questão 9Resposta\n",
    "\n",
    "a.\n",
    "Usar uma linguagem técnica complexa demais\n",
    "\n",
    "b.\n",
    "Fazer perguntas vagas ou sem especificidade [v]\n",
    "\n",
    "c.\n",
    "Pedir respostas que contenham muitos exemplos\n",
    "\n",
    "d.\n",
    "Fazer perguntas longas demais"
   ]
  },
  {
   "cell_type": "markdown",
   "metadata": {},
   "source": [
    "Você está utilizando um LLM para criar um resumo sobre a Revolução Francesa para uma apresentação. No entanto, a primeira resposta que você recebeu está muito longa e detalhada. Você precisa de algo mais conciso e direto. Qual seria a melhor forma de ajustar seu prompt para obter uma resposta mais prática e útil para sua apresentação?\n",
    "Questão 10Resposta\n",
    "\n",
    "a.\n",
    "Me dê uma resposta curta sobre a Revolução Francesa.\n",
    "\n",
    "b.\n",
    "Explique a Revolução Francesa com todos os detalhes.\n",
    "\n",
    "c.\n",
    "Resuma a Revolução Francesa de forma breve e clara. [v]\n",
    "\n",
    "d.\n",
    "Fale sobre os principais eventos da Revolução Francesa."
   ]
  }
 ],
 "metadata": {
  "language_info": {
   "name": "python"
  }
 },
 "nbformat": 4,
 "nbformat_minor": 2
}
