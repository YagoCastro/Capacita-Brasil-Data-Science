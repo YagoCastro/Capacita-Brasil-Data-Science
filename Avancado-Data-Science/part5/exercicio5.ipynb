{
 "cells": [
  {
   "cell_type": "markdown",
   "metadata": {},
   "source": []
  },
  {
   "cell_type": "markdown",
   "metadata": {},
   "source": [
    "<a id=\"Q1\"> </a>\n",
    "# Questão 1\n",
    "\n",
    "Você é um analista imobiliário que deseja prever os preços das casas em diferentes regiões da Califórnia. Você tem um conjunto de dados que inclui informações como o número de quartos, a renda mediana da vizinhança, a idade das casas e a proximidade ao oceano. Qual técnica de aprendizado de máquina seria mais adequada para prever o valor das casas com base nesses atributos?"
   ]
  },
  {
   "cell_type": "markdown",
   "metadata": {},
   "source": [
    "\n",
    "a.\n",
    "Regressão [V]\n",
    "\n",
    "b.\n",
    "Agrupamento (Clustering)\n",
    "\n",
    "c.\n",
    "Classificação\n",
    "\n",
    "d.\n",
    "Análise de Associação"
   ]
  },
  {
   "cell_type": "markdown",
   "metadata": {},
   "source": [
    "<a id=\"Q2\"> </a>\n",
    "# Questão 2\n",
    "\n",
    "Durante o seu trabalho como analista de dados, você percebe que a coluna ocean_proximity no seu conjunto de dados contém valores categóricos, como \"NEAR BAY\" e \"INLAND\". Para utilizar esses dados em um modelo de regressão, você decide transformar esta coluna em um formato numérico. Qual técnica é a mais apropriada para transformar essa variável categórica em um formato utilizável pelo modelo de aprendizado de máquina?"
   ]
  },
  {
   "cell_type": "markdown",
   "metadata": {},
   "source": [
    "a.\n",
    "Padronização\n",
    "\n",
    "b.\n",
    "Normalização\n",
    "\n",
    "c.\n",
    "Remoção da coluna\n",
    "\n",
    "d.\n",
    "One Hot Encoding [V]"
   ]
  },
  {
   "cell_type": "markdown",
   "metadata": {},
   "source": [
    "<a id=\"Q3\"> </a>\n",
    "# Questão 3\n",
    "Você está analisando os dados do mercado imobiliário e deseja avaliar a relação entre a renda mediana (median_income) e o preço mediano das casas (median_house_value). Qual técnica seria mais adequada para visualizar essa relação de forma simples e direta?"
   ]
  },
  {
   "cell_type": "markdown",
   "metadata": {},
   "source": [
    "a.\n",
    "Histograma\n",
    "\n",
    "b.\n",
    "Gráfico de dispersão (Scatter Plot) [V]\n",
    "\n",
    "c.\n",
    "Gráfico de barras\n",
    "\n",
    "d.\n",
    "Matriz de confusão"
   ]
  },
  {
   "cell_type": "markdown",
   "metadata": {},
   "source": [
    "<a id=\"Q4\"> </a>\n",
    "# Questão 4\n",
    "\n",
    "Após treinar um modelo de regressão para prever os preços das casas, você quer avaliar seu desempenho. Você quer saber o quão perto as previsões estão dos valores reais em média. Qual métrica de avaliação é a mais adequada para este caso?"
   ]
  },
  {
   "cell_type": "markdown",
   "metadata": {},
   "source": [
    "\n",
    "a.\n",
    "Erro Médio Absoluto (MAE)  [V]\n",
    "\n",
    "b.\n",
    "Acurácia\n",
    "\n",
    "c.\n",
    "Precisão (Precision)\n",
    "\n",
    "d.\n",
    "Matriz de Confusão"
   ]
  },
  {
   "cell_type": "markdown",
   "metadata": {},
   "source": [
    "<a id=\"Q5\"> </a>\n",
    "# Questão 5\n",
    "\n",
    "Você está lidando com o conjunto de dados imobiliários da Califórnia, que possui atributos como total_rooms e population. Você observa que o número total de cômodos varia em uma escala muito maior que o número de domicílios. Qual é a melhor prática para lidar com essa diferença de escala antes de treinar seu modelo?"
   ]
  },
  {
   "cell_type": "markdown",
   "metadata": {},
   "source": [
    "a.\n",
    "Remover a coluna com o maior valor\n",
    "\n",
    "b.\n",
    "Normalizar os dados [V]\n",
    "\n",
    "c.\n",
    "Substituir valores ausentes\n",
    "\n",
    "d.\n",
    "Aplicar One Hot Encoding"
   ]
  },
  {
   "cell_type": "markdown",
   "metadata": {},
   "source": [
    "<a id=\"Q6\"> </a>\n",
    "# Questão 6\n",
    "\n",
    "Você é um cientista de dados e deseja treinar um modelo para prever o preço das casas. No seu conjunto de dados, você percebe que a coluna total_bedrooms tem alguns valores ausentes. O que você deve fazer para lidar com esses valores ausentes de forma simples, mas também eficiente?"
   ]
  },
  {
   "cell_type": "markdown",
   "metadata": {},
   "source": [
    "a.\n",
    "Substituir os valores ausentes pela média ou mediana da coluna [V]\n",
    "\n",
    "b.\n",
    "Remover todas as linhas que contêm valores ausentes\n",
    "\n",
    "c.\n",
    "Preencher os valores ausentes com zeros\n",
    "\n",
    "d.\n",
    "Ignorar a coluna total_bedrooms"
   ]
  },
  {
   "cell_type": "markdown",
   "metadata": {},
   "source": [
    "<a id=\"Q7\"> </a>\n",
    "# Questão 7\n",
    "\n",
    "Durante a análise dos dados, você quer entender como a variável categórica ocean_proximity influencia o preço das casas. Você decide transformar essa variável em um formato que permita ao modelo de regressão utilizá-la. Depois de aplicar a técnica apropriada, quais serão as novas características adicionadas ao DataFrame?"
   ]
  },
  {
   "cell_type": "markdown",
   "metadata": {},
   "source": [
    "\n",
    "a.\n",
    "Uma única coluna com valores numéricos normalizados\n",
    "\n",
    "b.\n",
    "Uma coluna categórica com rótulos convertidos para números inteiros\n",
    "\n",
    "c.\n",
    "Novas colunas binárias para cada categoria em ocean_proximity [V]\n",
    "\n",
    "d.\n",
    "Uma nova coluna com o valor médio de proximidade ao oceano"
   ]
  },
  {
   "cell_type": "markdown",
   "metadata": {},
   "source": [
    "<a id=\"Q8\"> </a>\n",
    "# Questão 8\n",
    "\n",
    "Após a preparação e análise dos dados, você treina um modelo de regressão linear para prever os preços dos imóveis. Qual dos seguintes atributos é mais provável de ser a variável dependente (variável de saída) em seu modelo?"
   ]
  },
  {
   "cell_type": "markdown",
   "metadata": {},
   "source": [
    "\n",
    "a.\n",
    "Total de quartos (total_rooms)\n",
    "\n",
    "b.\n",
    "Renda mediana (median_income)\n",
    "\n",
    "c.\n",
    "Valor mediano da casa (median_house_value) [V]\n",
    "\n",
    "d.\n",
    "População (population)"
   ]
  },
  {
   "cell_type": "markdown",
   "metadata": {},
   "source": [
    "<a id=\"Q9\"> </a>\n",
    "# Questão 9\n",
    "Durante a análise exploratória de dados, você quer entender a distribuição das idades medianas das casas (housing_median_age) em um conjunto de dados. Qual seria a melhor visualização para entender como essa variável está distribuída em todo o conjunto de dados?"
   ]
  },
  {
   "cell_type": "markdown",
   "metadata": {},
   "source": [
    "\n",
    "a.\n",
    "Histograma [V]\n",
    "\n",
    "b.\n",
    "Gráfico de Linha\n",
    "\n",
    "c.\n",
    "Gráfico de dispersão (Scatter Plot)\n",
    "\n",
    "d.\n",
    "Matriz de Confusão"
   ]
  },
  {
   "cell_type": "markdown",
   "metadata": {},
   "source": [
    "<a id=\"Q10\"> </a>\n",
    "# Questão 10\n",
    "\n",
    "Você concluiu a análise dos dados e agora deseja dividir o conjunto de dados em dois subconjuntos: um para treinar o modelo e outro para testar seu desempenho. Por que é importante dividir os dados dessa forma?"
   ]
  },
  {
   "cell_type": "markdown",
   "metadata": {},
   "source": [
    "a.\n",
    "Para evitar que o modelo seja treinado e testado nos mesmos dados, fornecendo uma avaliação justa de seu desempenho [V]\n",
    "\n",
    "b.\n",
    "Para garantir que o modelo tenha 100% de precisão\n",
    "\n",
    "c.\n",
    "Para aumentar o número de colunas no conjunto de dados\n",
    "\n",
    "d.\n",
    "Para remover os valores ausentes do conjunto de dados\n",
    "\n"
   ]
  }
 ],
 "metadata": {
  "language_info": {
   "name": "python"
  }
 },
 "nbformat": 4,
 "nbformat_minor": 2
}
