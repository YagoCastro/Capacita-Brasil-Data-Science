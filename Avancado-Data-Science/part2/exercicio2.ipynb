{
 "cells": [
  {
   "cell_type": "markdown",
   "metadata": {},
   "source": []
  },
  {
   "cell_type": "markdown",
   "metadata": {},
   "source": []
  },
  {
   "cell_type": "markdown",
   "metadata": {},
   "source": [
    "\n",
    "Ao implementar uma rede neural recorrente (RNN) em Python, é importante definir a quantidade de unidades recorrentes, que serão responsáveis por processar as sequências de dados. Qual comando define corretamente a camada de RNN com 50 unidades?\n",
    "Questão 1Resposta\n",
    "\n",
    "a.\n",
    "model.add(Dense(50, input_shape=(100, 1)))\n",
    "\n",
    "b.\n",
    "model.add(MaxPooling2D(50, input_shape=(100, 1)))\n",
    "\n",
    "c.\n",
    "model.add(Conv2D(50, input_shape=(100, 1)))\n",
    "\n",
    "d.[V]\n",
    "model.add(SimpleRNN(50, input_shape=(100, 1)))"
   ]
  },
  {
   "cell_type": "markdown",
   "metadata": {},
   "source": [
    "As redes neurais convolucionais (RNCs) são amplamente usadas no processamento de imagens devido à sua capacidade de identificar padrões visuais. Qual camada em uma RNC é responsável por reduzir a dimensão espacial das características extraídas?\n",
    "Questão 2Resposta\n",
    "\n",
    "a.\n",
    "MaxPooling2D. [V]\n",
    "\n",
    "b.\n",
    "Conv2D.\n",
    "\n",
    "c.\n",
    "Dense.\n",
    "\n",
    "d.\n",
    "SimpleRNN."
   ]
  },
  {
   "cell_type": "markdown",
   "metadata": {},
   "source": [
    "Uma das principais vantagens das Redes Neurais Recorrentes (RNNs) é a capacidade de processar dados sequenciais. Qual tipo de problema é mais adequado para o uso de RNNs?\n",
    "Questão 3Resposta\n",
    "\n",
    "a.\n",
    "Tradução automática de texto. [v]\n",
    "\n",
    "b.\n",
    "Reconhecimento facial.\n",
    "\n",
    "c.\n",
    "Detecção de objetos em imagens.\n",
    "\n",
    "d.\n",
    "Classificação de imagens."
   ]
  },
  {
   "cell_type": "markdown",
   "metadata": {},
   "source": [
    "Ao implementar uma RNC para a classificação de imagens, é necessário converter as entradas de imagens em um formato adequado. Qual função é responsável por transformar a saída da camada convolucional em uma forma adequada para camadas densas?\n",
    "Questão 4Resposta\n",
    "\n",
    "a.\n",
    "Conv2D()\n",
    "\n",
    "b.\n",
    "MaxPooling2D()\n",
    "\n",
    "c.\n",
    "SimpleRNN()\n",
    "\n",
    "d.  [v]\n",
    "Flatten() "
   ]
  },
  {
   "cell_type": "markdown",
   "metadata": {},
   "source": [
    "Qual das alternativas a seguir descreve uma aplicação típica de Redes Neurais Convolucionais (RNCs)?\n",
    "Questão 5Resposta\n",
    "\n",
    "a.\n",
    "Reconhecimento de objetos em imagens. [v]\n",
    "\n",
    "b.\n",
    "Análise de sentimentos em textos.\n",
    "\n",
    "c.\n",
    "Tradução automática.\n",
    "\n",
    "d.\n",
    "Previsão de séries temporais.\n"
   ]
  },
  {
   "cell_type": "markdown",
   "metadata": {},
   "source": [
    "No contexto de deep learning, qual é o objetivo principal da camada Dense em uma rede neural?\n",
    "Questão 6Resposta\n",
    "\n",
    "a.\n",
    "Classificar as entradas com base nas características extraídas. [V]\n",
    "\n",
    "b.\n",
    "Processar sequências temporais.\n",
    "\n",
    "c.\n",
    "Extrair características de imagens.\n",
    "\n",
    "d.\n",
    "Reduzir a dimensão espacial de uma imagem."
   ]
  },
  {
   "cell_type": "markdown",
   "metadata": {},
   "source": [
    "Redes Neurais Recorrentes (RNNs) possuem limitações ao lidar com dependências temporais longas. Qual arquitetura foi desenvolvida para resolver essa limitação?\n",
    "Questão 7Resposta\n",
    "\n",
    "a.\n",
    "Redes Multicamadas.\n",
    "\n",
    "b.\n",
    "Redes Convolucionais.\n",
    "\n",
    "c.\n",
    "Redes Neurais Feedforward.\n",
    "\n",
    "d.\n",
    "LSTMs (Long Short-Term Memory). [v]"
   ]
  },
  {
   "cell_type": "markdown",
   "metadata": {},
   "source": [
    "Ao compilar uma rede neural em Python usando TensorFlow, qual parâmetro define a função de perda para um problema de regressão?\n",
    "Questão 8Resposta\n",
    "\n",
    "a.\n",
    "loss='binary_crossentropy'\n",
    "\n",
    "b.\n",
    "loss='categorical_crossentropy'\n",
    "\n",
    "c.\n",
    "loss='mse' [v]\n",
    "\n",
    "d.\n",
    "loss='accuracy'"
   ]
  },
  {
   "cell_type": "markdown",
   "metadata": {},
   "source": [
    "Em uma rede neural convolucional, qual das seguintes camadas é responsável por extrair características da entrada, como bordas e texturas?\n",
    "Questão 9Resposta\n",
    "\n",
    "a.\n",
    "MaxPooling2D()\n",
    "\n",
    "b.\n",
    "Flatten()\n",
    "\n",
    "c.\n",
    "Dense()\n",
    "\n",
    "d.\n",
    "Conv2D()  [v]"
   ]
  },
  {
   "cell_type": "markdown",
   "metadata": {},
   "source": [
    "Qual das seguintes tarefas não é adequada para o uso de Redes Neurais Recorrentes (RNNs)?\n",
    "Questão 10Resposta\n",
    "\n",
    "a.\n",
    "Tradução de idiomas.\n",
    "\n",
    "b.\n",
    "Previsão de séries temporais.\n",
    "\n",
    "c.\n",
    "Geração de texto.\n",
    "\n",
    "d.\n",
    "Classificação de imagens. [v]"
   ]
  }
 ],
 "metadata": {
  "language_info": {
   "name": "python"
  }
 },
 "nbformat": 4,
 "nbformat_minor": 2
}
