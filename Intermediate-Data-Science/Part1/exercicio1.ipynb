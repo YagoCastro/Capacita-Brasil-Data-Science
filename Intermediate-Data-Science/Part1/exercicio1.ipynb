{
 "cells": [
  {
   "cell_type": "markdown",
   "id": "9274251e",
   "metadata": {},
   "source": [
    "# Questão1\n",
    "\n",
    "Uma empresa de varejo quer analisar as vendas de seus produtos em diferentes categorias (eletrônicos, vestuário, alimentos etc.). Eles estão usando um gráfico de pizza para representar os dados, mas notaram que é difícil interpretar as informações devido ao número excessivo de categorias. Qual tipo de gráfico seria mais adequado para essa análise?"
   ]
  },
  {
   "cell_type": "markdown",
   "id": "f2c250d6",
   "metadata": {},
   "source": [
    "\n",
    "a.\n",
    "Gráfico de dispersão.\n",
    "\n",
    "b.\n",
    "Gráfico de linhas.\n",
    "\n",
    "c.\n",
    "**Gráfico de barras.**\n",
    "\n",
    "d.\n",
    "Gráfico de área."
   ]
  },
  {
   "cell_type": "markdown",
   "id": "51b5b670",
   "metadata": {},
   "source": [
    "# Questão2\n",
    "Durante uma apresentação de resultados trimestrais, um analista utilizou um gráfico com muitas cores semelhantes para representar diferentes regiões de vendas. Isso causou confusão nos executivos presentes. Qual princípio de design foi desconsiderado?"
   ]
  },
  {
   "cell_type": "markdown",
   "id": "4192d044",
   "metadata": {},
   "source": [
    "a.\n",
    "Precisão.\n",
    "\n",
    "b.\n",
    "Simplicidade.\n",
    "\n",
    "c.\n",
    "**Clareza.**\n",
    "\n",
    "d.\n",
    "Relevância."
   ]
  },
  {
   "cell_type": "markdown",
   "id": "d4e2be4f",
   "metadata": {},
   "source": [
    "# Questão3\n",
    "Uma equipe de marketing deseja acompanhar a evolução da taxa de conversão de uma campanha ao longo de seis meses, comparando entre dois grupos demográficos. Qual seria o tipo de gráfico mais apropriado para essa visualização?"
   ]
  },
  {
   "cell_type": "markdown",
   "id": "58d1938b",
   "metadata": {},
   "source": [
    "a.\n",
    "Gráfico de radar.\n",
    "\n",
    "b.\n",
    "**Gráfico de linhas.**\n",
    "\n",
    "c.\n",
    "Gráfico de barras empilhadas.\n",
    "\n",
    "d.\n",
    "Gráfico de pizza."
   ]
  },
  {
   "cell_type": "markdown",
   "id": "1f5baec4",
   "metadata": {},
   "source": [
    "# Questão4\n",
    "Você está trabalhando em um projeto em que precisa mostrar a relação entre a quantidade de vendas e o número de visitas ao site de uma empresa. Qual tipo de gráfico é mais apropriado para visualizar a relação entre essas duas variáveis?"
   ]
  },
  {
   "cell_type": "markdown",
   "id": "8ffd02de",
   "metadata": {},
   "source": [
    "a.\n",
    "Gráfico de barras.\n",
    "\n",
    "b.\n",
    "Gráfico de pizza.\n",
    "\n",
    "c.\n",
    "**Gráfico de dispersão.**\n",
    "\n",
    "d.\n",
    "Gráfico de linhas."
   ]
  },
  {
   "cell_type": "markdown",
   "id": "01fbf61e",
   "metadata": {},
   "source": [
    "### Questão5\n",
    "Você está criando uma visualização de dados para uma apresentação de vendas anuais de uma empresa. O objetivo é mostrar claramente a comparação das vendas mensais ao longo do ano. Qual tipo de gráfico seria mais adequado para esse contexto?"
   ]
  },
  {
   "cell_type": "markdown",
   "id": "ac00a303",
   "metadata": {},
   "source": [
    "**a.\n",
    "Gráfico de barras.**\n",
    "\n",
    "b.\n",
    "Gráfico de linhas.\n",
    "\n",
    "c.\n",
    "Gráfico de pizza.\n",
    "\n",
    "d.\n",
    "Gráfico de dispersão."
   ]
  },
  {
   "cell_type": "markdown",
   "id": "6c59d994",
   "metadata": {},
   "source": [
    "# Questão6\n",
    "Você foi solicitado a criar um dashboard para monitorar as principais métricas de desempenho de uma empresa. É importante que os usuários possam interagir com os dados para filtrar as informações por região e período. Qual é a característica mais importante de um dashboard interativo para atender a essa necessidade?"
   ]
  },
  {
   "cell_type": "markdown",
   "id": "96574270",
   "metadata": {},
   "source": [
    "\n",
    "a.\n",
    "Ter uma paleta de cores complexa.\n",
    "\n",
    "b.\n",
    "Conter apenas gráficos de pizza.\n",
    "\n",
    "**c.\n",
    "Permitir filtragem e exploração dos dados.**\n",
    "\n",
    "d.\n",
    "Ser visualmente atraente."
   ]
  },
  {
   "cell_type": "markdown",
   "id": "b2faff9c",
   "metadata": {},
   "source": [
    "# Questão7\n",
    "Ao criar um dashboard para monitorar o desempenho de uma campanha de marketing, o analista incluiu todos os dados possíveis, sem filtros. Os usuários acharam o dashboard confuso e difícil de usar. Qual princípio de design foi negligenciado?"
   ]
  },
  {
   "cell_type": "markdown",
   "id": "dd7fd5a1",
   "metadata": {},
   "source": [
    "\n",
    "a.\n",
    "Simplicidade.\n",
    "\n",
    "b.\n",
    "Precisão.\n",
    "\n",
    "**c.\n",
    "Relevância.**\n",
    "\n",
    "d.\n",
    "Clareza."
   ]
  },
  {
   "cell_type": "markdown",
   "id": "f4a5e2cc",
   "metadata": {},
   "source": [
    "# Questão8\n",
    "Um relatório foi preparado para mostrar a diferença de vendas entre dois produtos ao longo de um ano. O analista decidiu usar um gráfico de linhas para cada produto. Qual é o benefício principal dessa escolha?"
   ]
  },
  {
   "cell_type": "markdown",
   "id": "5f430574",
   "metadata": {},
   "source": [
    "\n",
    "a.\n",
    "Facilitar a análise de distribuição de vendas.\n",
    "\n",
    "**b.\n",
    "Mostrar a variação de forma evidente ao longo do tempo.**\n",
    "\n",
    "c.\n",
    "Destacar a comparação de valores absolutos.\n",
    "\n",
    "d.\n",
    "Evidenciar a relação entre dois conjuntos de dados."
   ]
  },
  {
   "cell_type": "markdown",
   "id": "5de8f102",
   "metadata": {},
   "source": [
    "# Questão9\n",
    "Durante a análise de dados de uma campanha, o analista deseja identificar quais categorias de clientes estão mais engajadas com os anúncios. Para isso, ele decide usar um gráfico de dispersão. Qual aspecto dos dados ele espera identificar com esse gráfico?\n"
   ]
  },
  {
   "cell_type": "markdown",
   "id": "bc0ca761",
   "metadata": {},
   "source": [
    "\n",
    "a.\n",
    "Evolução de uma variável ao longo do tempo.\n",
    "\n",
    "b.\n",
    "Comparação de valores totais.\n",
    "\n",
    "c.\n",
    "Distribuição de uma variável.\n",
    "\n",
    "**d.\n",
    "Correlação entre duas variáveis.**"
   ]
  },
  {
   "cell_type": "markdown",
   "id": "59c18efb",
   "metadata": {},
   "source": [
    "O gráfico de dispersão é ideal para visualizar a correlação entre duas variáveis. Nesse caso, o analista pode usar o gráfico para observar como duas variáveis (por exemplo, engajamento com anúncios e categoria de clientes) estão relacionadas e se existe algum padrão ou tendência entre elas."
   ]
  },
  {
   "cell_type": "markdown",
   "id": "140879d9",
   "metadata": {},
   "source": [
    "# Questão10\n",
    "Ao projetar uma visualização, você nota que os dados têm muitas categorias e deseja evitar que a visualização seja sobrecarregada. Qual técnica seria mais eficaz para lidar com uma grande quantidade de categorias em um gráfico de barras?"
   ]
  },
  {
   "cell_type": "markdown",
   "id": "0a478299",
   "metadata": {},
   "source": [
    "a.\n",
    "Aumentar o número de cores.\n",
    "\n",
    "b.\n",
    "Reduzir o número de barras.\n",
    "\n",
    "**c.\n",
    "Combinar categorias semelhantes.**\n",
    "\n",
    "d.\n",
    "Usar um gráfico de pizza."
   ]
  },
  {
   "cell_type": "markdown",
   "id": "c3476698",
   "metadata": {},
   "source": []
  }
 ],
 "metadata": {
  "kernelspec": {
   "display_name": "Python 3 (ipykernel)",
   "language": "python",
   "name": "python3"
  },
  "language_info": {
   "codemirror_mode": {
    "name": "ipython",
    "version": 3
   },
   "file_extension": ".py",
   "mimetype": "text/x-python",
   "name": "python",
   "nbconvert_exporter": "python",
   "pygments_lexer": "ipython3",
   "version": "3.9.13"
  }
 },
 "nbformat": 4,
 "nbformat_minor": 5
}
