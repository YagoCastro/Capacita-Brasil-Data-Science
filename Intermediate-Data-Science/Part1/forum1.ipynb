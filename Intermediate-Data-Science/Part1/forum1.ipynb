{
 "cells": [
  {
   "cell_type": "markdown",
   "id": "64b607df",
   "metadata": {},
   "source": [
    "# Fórum 1: Selecionando gráficos para visualizar dados"
   ]
  },
  {
   "cell_type": "markdown",
   "id": "58d1c1bd",
   "metadata": {},
   "source": [
    "Visualizações de dados, como gráficos de barras, pizza ou linhas, nos ajudam a entender informações rapidamente. Elas tornam números mais fáceis de interpretar e nos ajudam a tomar decisões. Neste fórum, você vai pensar em qual tipo de gráfico seria mais apropriado para mostrar diferentes tipos de informações e por quê.\n",
    "\n",
    "Imagine que você está preparando uma apresentação para os professores da escola sobre o desempenho dos alunos em três matérias: Matemática, Português e Ciências. Você quer mostrar a evolução das notas da turma ao longo de três trimestres para ver se os alunos melhoraram, mantiveram ou pioraram o desempenho.\n",
    "\n",
    "Se você fosse apresentar esses dados para os professores, qual gráfico você escolheria (gráfico de barras, linhas ou pizza) e por quê? Explique como esse gráfico ajudaria a destacar a evolução das notas e se ele facilita a compreensão."
   ]
  },
  {
   "cell_type": "code",
   "execution_count": null,
   "id": "a4d581bf",
   "metadata": {},
   "outputs": [],
   "source": []
  },
  {
   "cell_type": "code",
   "execution_count": null,
   "id": "94cd9ce9",
   "metadata": {},
   "outputs": [],
   "source": []
  },
  {
   "cell_type": "code",
   "execution_count": null,
   "id": "eeab824e",
   "metadata": {},
   "outputs": [],
   "source": []
  }
 ],
 "metadata": {
  "kernelspec": {
   "display_name": "Python 3 (ipykernel)",
   "language": "python",
   "name": "python3"
  },
  "language_info": {
   "codemirror_mode": {
    "name": "ipython",
    "version": 3
   },
   "file_extension": ".py",
   "mimetype": "text/x-python",
   "name": "python",
   "nbconvert_exporter": "python",
   "pygments_lexer": "ipython3",
   "version": "3.9.13"
  }
 },
 "nbformat": 4,
 "nbformat_minor": 5
}
