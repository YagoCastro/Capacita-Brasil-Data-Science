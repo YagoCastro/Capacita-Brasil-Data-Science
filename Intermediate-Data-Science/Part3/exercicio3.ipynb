{
 "cells": [
  {
   "cell_type": "markdown",
   "id": "a5b95262",
   "metadata": {},
   "source": [
    "# Questão1\n",
    "\n",
    "Você está preparando um relatório, quando percebe que seu conjunto de dados possui várias colunas com valores ausentes. Você sabe que esses dados são críticos para as decisões que serão tomadas. Nesse cenário, a forma como você lida com esses valores ausentes pode influenciar diretamente a precisão e a utilidade das suas análises. Qual técnica usar para lidar com valores ausentes em um conjunto de dados?"
   ]
  },
  {
   "cell_type": "markdown",
   "id": "1d501e60",
   "metadata": {},
   "source": [
    "a.\n",
    "Remover todas as linhas do conjunto de dados.\n",
    "\n",
    "b.\n",
    "Ignorar os valores ausentes e seguir com a análise.\n",
    "\n",
    "**c.\n",
    "Substituir os valores ausentes pela média da coluna.**\n",
    "\n",
    "d.\n",
    "Substituir os valores ausentes pela média de todas as colunas."
   ]
  },
  {
   "cell_type": "markdown",
   "id": "a750cbb3",
   "metadata": {},
   "source": [
    "# Questão2\n",
    "\n",
    "Durante a análise de um conjunto de dados para um projeto de previsão de vendas, você se depara com uma variável categórica que representa o nível de demanda do produto, classificada em três categorias: “Baixo”, “Médio” e “Alto”. Qual técnica é mais apropriada para transformar essa variável e garantir que o modelo capture a relação entre essas categorias?"
   ]
  },
  {
   "cell_type": "markdown",
   "id": "6f908faf",
   "metadata": {},
   "source": [
    "a.\n",
    "Substituir “Baixo” por 0, “Médio” por 1 e “Alto” por 2.\n",
    "\n",
    "b.\n",
    "One Hot Encoding.\n",
    "\n",
    "c.\n",
    "Remover a variável do conjunto de dados.\n",
    "\n",
    "**d.\n",
    "Label Encoding.**\n",
    "\n"
   ]
  },
  {
   "cell_type": "markdown",
   "id": "793feb28",
   "metadata": {},
   "source": [
    "# Questão3\n",
    "\n",
    "Você está construindo um modelo de machine learning para prever a probabilidade de inadimplência de clientes em um banco. Ao revisar os dados, percebe que as variáveis numéricas, como renda, idade e saldo em conta, têm escalas muito diferentes. Para garantir que nenhuma dessas variáveis tenha uma influência desproporcional no modelo, você considera aplicar uma técnica de normalização. Nesse cenário, qual é o principal objetivo da normalização de dados em um conjunto de dados?"
   ]
  },
  {
   "cell_type": "markdown",
   "id": "4055683e",
   "metadata": {},
   "source": [
    "a.Reduzir a variabilidade dos dados.\n",
    "\n",
    "b.\n",
    "Aumentar o valor das variáveis.\n",
    "\n",
    "**c.\n",
    "Colocar as variáveis em uma escala comum, geralmente entre 0 e 1.**\n",
    "\n",
    "d.\n",
    "Remover valores extremos (outliers) do conjunto de dados."
   ]
  },
  {
   "cell_type": "markdown",
   "id": "702c561c",
   "metadata": {},
   "source": [
    "# Questão4\n",
    "Você está preparando um conjunto de dados para uma análise de mercado que visa identificar padrões de compra entre os clientes. Ao fazer uma revisão inicial, você percebe que alguns dados estão duplicados. Nesse cenário, qual seria a melhor ação?"
   ]
  },
  {
   "cell_type": "markdown",
   "id": "765a82a6",
   "metadata": {},
   "source": [
    "a.\n",
    "Ignorar os valores duplicados.\n",
    "\n",
    "b.\n",
    "Substituir os valores duplicados pela média da coluna.\n",
    "\n",
    "**c.\n",
    "Remover todos os registros duplicados.**\n",
    "\n",
    "d.\n",
    "Converter os valores duplicados em variáveis categóricas."
   ]
  },
  {
   "cell_type": "markdown",
   "id": "2c91c4e8",
   "metadata": {},
   "source": [
    "# Questão5\n",
    "\n",
    "Você está preparando os dados para um modelo de classificação que prevê a satisfação dos clientes com base em várias características, incluindo a região onde eles vivem. A variável “Região” possui quatro categorias distintas: Norte, Sul, Leste e Oeste. Para que o modelo entenda essa variável categórica, você decide aplicar One Hot Encoding. Levando em consideração esse cenário, quantas novas colunas serão criadas no conjunto de dados?"
   ]
  },
  {
   "cell_type": "markdown",
   "id": "1531b521",
   "metadata": {},
   "source": [
    "a.\n",
    "2\n",
    "\n",
    "b.\n",
    "1\n",
    "\n",
    "**c.\n",
    "4**\n",
    "\n",
    "d.\n",
    "3"
   ]
  },
  {
   "cell_type": "markdown",
   "id": "4c240815",
   "metadata": {},
   "source": [
    "# Questão6\n",
    "\n",
    "Você está preparando um conjunto de dados para ser utilizado em um modelo de aprendizado de máquina. Durante o processo de pré-processamento, você decide padronizar (ou normalizar) os dados para garantir que todas as variáveis sejam tratadas pelo algoritmo de maneira justa. Isso é particularmente importante para algoritmos sensíveis à escala das variáveis. Ao padronizar uma variável, o que acontece com os valores resultantes?"
   ]
  },
  {
   "cell_type": "markdown",
   "id": "27a8a105",
   "metadata": {},
   "source": [
    "a.\n",
    "A variável terá a mesma escala das outras variáveis no conjunto de dados.\n",
    "\n",
    "**b.\n",
    "A média da variável será 0, e o desvio padrão será 1.**\n",
    "\n",
    "c.\n",
    "Todas as variáveis terão valores entre 0 e 1.\n",
    "\n",
    "d.\n",
    "Todos os valores da variável serão positivos."
   ]
  },
  {
   "cell_type": "markdown",
   "id": "dcfe21cf",
   "metadata": {},
   "source": [
    "# Questão7\n",
    "Você está analisando um conjunto de dados financeiros para prever o risco de crédito dos clientes de um banco. Durante a exploração dos dados, percebe que algumas variáveis numéricas, como renda e saldo bancário, apresentam valores extremamente altos em comparação com o restante dos dados. Esses valores extremos podem distorcer os resultados do seu modelo e reduzir a precisão dele. Diante dessa situação, qual técnica seria mais apropriada para transformar essas variáveis numéricas que possuem valores extremos?"
   ]
  },
  {
   "cell_type": "markdown",
   "id": "b8b6ffed",
   "metadata": {},
   "source": [
    "**a.\n",
    "Padronização.**\n",
    "\n",
    "b.\n",
    "One Hot Encoding.\n",
    "\n",
    "c.\n",
    "Imputação de dados.\n",
    "\n",
    "d.\n",
    "Label Encoding."
   ]
  },
  {
   "cell_type": "markdown",
   "id": "090a5277",
   "metadata": {},
   "source": [
    "# Questão8\n",
    "Se um modelo preditivo requer que todas as variáveis estejam na mesma escala, qual técnica você deve aplicar?"
   ]
  },
  {
   "cell_type": "markdown",
   "id": "c014ae54",
   "metadata": {},
   "source": [
    "a.\n",
    "Limpeza de dados.\n",
    "\n",
    "b.\n",
    "Encoding.\n",
    "\n",
    "**c.\n",
    "Normalização.**\n",
    "\n",
    "d.\n",
    "Imputação."
   ]
  },
  {
   "cell_type": "markdown",
   "id": "0c551168",
   "metadata": {},
   "source": [
    "# Questão9\n",
    "Qual das seguintes opções é uma prática comum na limpeza de dados?"
   ]
  },
  {
   "cell_type": "markdown",
   "id": "11d8b4ca",
   "metadata": {},
   "source": [
    "a.\n",
    "Inserir valores aleatórios para substituir os dados ausentes.\n",
    "\n",
    "\n",
    "b.\n",
    "Aumentar o tamanho do conjunto de dados.\n",
    "\n",
    "\n",
    "**c.\n",
    "Remover inconsistências e duplicatas.**\n",
    "\n",
    "\n",
    "d.\n",
    "Substituir todas as variáveis categóricas por texto."
   ]
  },
  {
   "cell_type": "markdown",
   "id": "a86e9f59",
   "metadata": {},
   "source": [
    "# Questão10"
   ]
  }
 ],
 "metadata": {
  "kernelspec": {
   "display_name": "Python 3 (ipykernel)",
   "language": "python",
   "name": "python3"
  },
  "language_info": {
   "codemirror_mode": {
    "name": "ipython",
    "version": 3
   },
   "file_extension": ".py",
   "mimetype": "text/x-python",
   "name": "python",
   "nbconvert_exporter": "python",
   "pygments_lexer": "ipython3",
   "version": "3.9.13"
  }
 },
 "nbformat": 4,
 "nbformat_minor": 5
}
