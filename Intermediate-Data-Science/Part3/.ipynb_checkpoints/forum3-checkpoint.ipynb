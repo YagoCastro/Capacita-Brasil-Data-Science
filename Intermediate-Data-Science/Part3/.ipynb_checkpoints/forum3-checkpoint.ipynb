{
 "cells": [
  {
   "cell_type": "code",
   "execution_count": null,
   "id": "c42404f1",
   "metadata": {},
   "outputs": [],
   "source": []
  },
  {
   "cell_type": "markdown",
   "id": "4102c54c",
   "metadata": {},
   "source": [
    "Antes de usar dados para treinar modelos de Inteligência Artificial, é essencial que eles estejam organizados e prontos para análise. Isso envolve limpeza, transformação e codificação (encoding) dos dados, para que tudo esteja no formato correto. Neste fórum, você vai explorar uma etapa importante da modelagem: como preparar e transformar os dados para obter melhores resultados nos algoritmos.\n",
    "\n",
    "Imagine que você está preparando um banco de dados para treinar um modelo de IA que deve prever se um aluno passará ou não em um exame. Você tem informações como nome, idade, turma, número de horas de estudo por semana e situação (aprovado ou reprovado). No entanto, você percebe que há alguns problemas nos dados:\n",
    "\n",
    "Alguns alunos têm valores faltando no número de horas de estudo;\n",
    "\n",
    "A situação de “aprovado” ou “reprovado” está marcada como “Sim” e “Não”, mas o modelo não entende palavras, apenas números;\n",
    "\n",
    "A coluna “Turma” tem valores como “Turma A”, “Turma B” e “Turma C”, e você precisa converter isso para um formato numérico."
   ]
  },
  {
   "cell_type": "markdown",
   "id": "9af5dad4",
   "metadata": {},
   "source": [
    "# Pergunta 1\n",
    "Como você lidaria com valores faltantes no número de horas de estudo? Preencheria com a média? Removeria esses alunos?"
   ]
  },
  {
   "cell_type": "markdown",
   "id": "d9204b35",
   "metadata": {},
   "source": []
  },
  {
   "cell_type": "markdown",
   "id": "264dabe1",
   "metadata": {},
   "source": [
    "# Pergunta 2\n",
    "Como você alteraria o valor de “Sim” e “Não” para um formato que o modelo entenda? Por exemplo, substituir “Sim” por 1 e “Não” por 0?"
   ]
  },
  {
   "cell_type": "code",
   "execution_count": null,
   "id": "4f81d61d",
   "metadata": {},
   "outputs": [],
   "source": []
  },
  {
   "cell_type": "markdown",
   "id": "1365eef7",
   "metadata": {},
   "source": [
    "# Pergunta 3\n",
    "Como você converteria as turmas (“Turma A”, “Turma B”, “Turma C”) para um formato numérico que o modelo possa processar?"
   ]
  }
 ],
 "metadata": {
  "kernelspec": {
   "display_name": "Python 3 (ipykernel)",
   "language": "python",
   "name": "python3"
  },
  "language_info": {
   "codemirror_mode": {
    "name": "ipython",
    "version": 3
   },
   "file_extension": ".py",
   "mimetype": "text/x-python",
   "name": "python",
   "nbconvert_exporter": "python",
   "pygments_lexer": "ipython3",
   "version": "3.9.13"
  }
 },
 "nbformat": 4,
 "nbformat_minor": 5
}
