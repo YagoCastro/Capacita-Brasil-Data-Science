{
 "cells": [
  {
   "cell_type": "code",
   "execution_count": null,
   "id": "c42404f1",
   "metadata": {},
   "outputs": [],
   "source": []
  },
  {
   "cell_type": "markdown",
   "id": "4102c54c",
   "metadata": {},
   "source": [
    "Antes de usar dados para treinar modelos de Inteligência Artificial, é essencial que eles estejam organizados e prontos para análise. Isso envolve limpeza, transformação e codificação (encoding) dos dados, para que tudo esteja no formato correto. Neste fórum, você vai explorar uma etapa importante da modelagem: como preparar e transformar os dados para obter melhores resultados nos algoritmos.\n",
    "\n",
    "Imagine que você está preparando um banco de dados para treinar um modelo de IA que deve prever se um aluno passará ou não em um exame. Você tem informações como nome, idade, turma, número de horas de estudo por semana e situação (aprovado ou reprovado). No entanto, você percebe que há alguns problemas nos dados:\n",
    "\n",
    "Alguns alunos têm valores faltando no número de horas de estudo;\n",
    "\n",
    "A situação de “aprovado” ou “reprovado” está marcada como “Sim” e “Não”, mas o modelo não entende palavras, apenas números;\n",
    "\n",
    "A coluna “Turma” tem valores como “Turma A”, “Turma B” e “Turma C”, e você precisa converter isso para um formato numérico."
   ]
  },
  {
   "cell_type": "markdown",
   "id": "9af5dad4",
   "metadata": {},
   "source": [
    "# Pergunta 1\n",
    "Como você lidaria com valores faltantes no número de horas de estudo? Preencheria com a média? Removeria esses alunos?"
   ]
  },
  {
   "cell_type": "markdown",
   "id": "d9204b35",
   "metadata": {},
   "source": [
    "A possibilidade de remover esses dados dependeria de diversos fatores. Se a proporção de valores faltantes for muito alta, por exemplo, 65%, pode ser válido considerar a remoção da coluna, pois há uma grande quantidade de dados ausentes. Mesmo utilizando alternativas para preenchimento, como a imputação por modelagem preditiva, ainda assim, uma parte significativa dos dados permaneceria ausente, o que poderia comprometer a qualidade da análise.\n",
    "\n",
    "Por outro lado, se a quantidade de valores ausentes for baixa em relação ao número total de amostras, por exemplo, entre 1% e 4%, pode ser interessante realizar a imputação desses dados. Para isso, é essencial primeiro verificar a distribuição dos valores e a presença de outliers. Caso os dados sigam uma distribuição normal, a imputação pela média pode ser uma opção viável, pois ajudaria a manter a coerência do conjunto sem introduzir distorções. No entanto, se houver outliers, a mediana pode ser uma escolha mais adequada, pois é menos sensível a valores extremos.\n",
    "\n",
    "Outro fator importante é compreender o motivo da ausência dos dados. Se houver um dicionário de dados ou uma equipe que possa fornecer contexto sobre os valores faltantes, essa informação pode ser valiosa. Por exemplo, a ausência de um valor pode indicar que determinada pessoa não teve horas de estudo naquela semana, em vez de ser um dado perdido por erro ou inconsistência."
   ]
  },
  {
   "cell_type": "markdown",
   "id": "264dabe1",
   "metadata": {},
   "source": [
    "# Pergunta 2\n",
    "Como você alteraria o valor de “Sim” e “Não” para um formato que o modelo entenda? Por exemplo, substituir “Sim” por 1 e “Não” por 0?"
   ]
  },
  {
   "cell_type": "markdown",
   "id": "a8172cb6",
   "metadata": {},
   "source": [
    "Poderia ser utilizado o método Label Encoding, pois se trata de apenas duas classes categóricas e os valores numéricos transformados realmente representarão o significado do valor categórico, ou seja, indicarão a presença ou ausência de determinada característica.\n",
    "\n",
    "Outro método semelhante seria o One-Hot Encoding, porém sua aplicação requer cuidado para evitar a criação de um número elevado de variáveis, o que poderia aumentar significativamente a complexidade do conjunto de dados. No caso da aplicação do One-Hot Encoding, seriam criadas duas novas variáveis: \"Sim\" e \"Não\", sendo seus valores atribuídos de forma binária. Assim, nas amostras onde a categoria for \"Sim\", a variável \"Sim\" terá valor 1 e \"Não\" terá valor 0.\n",
    "\n",
    "Para esses casos, é sempre importante testar o comportamento do modelo com ambos os tratamentos. No entanto, pode-se dizer que o Label Encoding é uma versão mais compacta do One-Hot Encoding, pois a transformação da única variável para numérica já transmite toda a informação necessária."
   ]
  },
  {
   "cell_type": "markdown",
   "id": "1365eef7",
   "metadata": {},
   "source": [
    "# Pergunta 3\n",
    "Como você converteria as turmas (“Turma A”, “Turma B”, “Turma C”) para um formato numérico que o modelo possa processar?"
   ]
  },
  {
   "cell_type": "markdown",
   "id": "5f225fc3",
   "metadata": {},
   "source": [
    "Acredito que a melhor transformação para essa variável seria o One-Hot Encoding, visto que se trata de uma variável categórica nominal, ou seja, não há uma relação de ordem entre as categorias."
   ]
  }
 ],
 "metadata": {
  "kernelspec": {
   "display_name": "Python 3 (ipykernel)",
   "language": "python",
   "name": "python3"
  },
  "language_info": {
   "codemirror_mode": {
    "name": "ipython",
    "version": 3
   },
   "file_extension": ".py",
   "mimetype": "text/x-python",
   "name": "python",
   "nbconvert_exporter": "python",
   "pygments_lexer": "ipython3",
   "version": "3.9.13"
  }
 },
 "nbformat": 4,
 "nbformat_minor": 5
}
