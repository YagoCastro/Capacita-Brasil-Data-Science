{
 "cells": [
  {
   "cell_type": "markdown",
   "metadata": {},
   "source": [
    "# Fórum 8: Redução de dimensionalidade e os métodos de associação"
   ]
  },
  {
   "cell_type": "markdown",
   "metadata": {},
   "source": [
    "Na videoaula de hoje, exploramos como a Redução de Dimensionalidade e os Métodos de Associação são aplicados no contexto do aprendizado não supervisionado. Essas técnicas ajudam a organizar e entender grandes quantidades de dados, revelando padrões úteis para tomadas de decisão, especialmente quando temos pouca ou nenhuma informação inicial. Agora, queremos conhecer suas reflexões sobre como esses conceitos podem ser aplicados em situações que você enxerga no cotidiano."
   ]
  },
  {
   "cell_type": "markdown",
   "metadata": {},
   "source": [
    "Perguntas para Reflexão e Discussão:"
   ]
  },
  {
   "cell_type": "markdown",
   "metadata": {},
   "source": [
    "# 1. Explorando a Redução de Dimensionalidade\n",
    "\n",
    "Como você acha que simplificar dados pode ajudar a entender melhor situações complexas? Imagine um cenário do dia a dia, seja no trabalho, na escola ou em uma atividade que você pratica, onde simplificar as informações ajudaria a tomar decisões mais claras."
   ]
  },
  {
   "cell_type": "markdown",
   "metadata": {},
   "source": [
    "Sim a aplicação de métodos de redução de dimensionalidade ajudam muito na solução do problema, por exemplo, eu posso está recebendo dados elétricos de variários sensores para realizar um determinado estudo e ao realizar uma redução de dimensionalidade eu filtro aqueles dados que são mais relevantes para o estudo ou ao aplicar uma estratégia de PCA para identificar também quais variáveis mais influenciam no estudo.\n",
    "O uso de métodos de associaçã, como as regras de associação (Apriori ou FP-Growth), poderiam revelar padrões ocultos dos dados, permitindo tomar decisões mais informadas."
   ]
  },
  {
   "cell_type": "markdown",
   "metadata": {},
   "source": [
    "# 2. Descobrindo Padrões com Métodos de Associação\n",
    "\n",
    "Métodos de associação podem revelar combinações inesperadas de itens ou ações que ocorrem juntas com frequência. Consegue pensar em um exemplo, como em uma loja ou um app de música, onde descobrir uma associação entre itens ou ações poderia melhorar a experiência do cliente ou as vendas?"
   ]
  },
  {
   "cell_type": "markdown",
   "metadata": {},
   "source": [
    "Aplicação de técnicas de associação podem revelar padrões sobre a questão da compra dos clientes e seus itens, ou seja, podem existir determinados itens que apresentam uma maior probabilidade dado que um outro item foi selecionaod, como por exemplo, o café e o leite, ou o café e o pão de queijo, a frauda e a cerveja. Com base nessas associações tanto de itens quanto de marcas a loja pode montar a estrutura de itens nas prateleiras de forma mais orientada e pode também oferecer descontos combinadados, e realizar uma sugestão de itens para os clientes.\n",
    "\n",
    "Para o app de música o aplicativo poderia sugerir outros artistas ou playlist combinadas com base nos estilos no qual o usuário costuma ouvir. Essas estratégias aumentar a fidelidade do cliente ou do usuário com o servidor de serviço e no caso aplicativo de música tem a possibilidade aumetar mais o consumo do usuário no aplicativo."
   ]
  },
  {
   "cell_type": "markdown",
   "metadata": {},
   "source": [
    "# 3. Redução com Cuidado\n",
    "Muitas vezes, a redução dos dados é feita para tornar o trabalho mais eficiente. Mas será que, ao simplificar muito, algo importante pode ser deixado de lado? Como você acha que podemos garantir que os dados principais sejam preservados para manter a qualidade da análise?"
   ]
  },
  {
   "cell_type": "markdown",
   "metadata": {},
   "source": [
    "Utilizando ferramentas que analisam a importância dos dados para com a variável alvo, por exemplo, verificando a correlação dos dados, assim eu posso ver qual é a relação linear de cada feature com a variável alvo. Realizando também a verificação a partir de outros métodos de seleção de variáveis, como a obtenção dos coeficientes de cada feature na aplicação de um modelo (Como Random Forest) para seleção de variáveis. Sempre na aplicação do PCA é importante verificando qual a porcentagem de explicabilidade de cada componente principal. E sempre importante ao realizar um procedimento de redução de variável, fazer um teste comparativo com o dataset antes, para verificar a questão do ganho computacional, porém a verificiação na redução nas pontuações de avaliação do modelo, se impactou muito ou não."
   ]
  },
  {
   "cell_type": "markdown",
   "metadata": {},
   "source": [
    "Dica: Este fórum é mais sobre reflexões e ideias do que termos técnicos. Tente usar exemplos práticos e simples para embasar suas respostas!"
   ]
  }
 ],
 "metadata": {
  "language_info": {
   "name": "python"
  }
 },
 "nbformat": 4,
 "nbformat_minor": 2
}
