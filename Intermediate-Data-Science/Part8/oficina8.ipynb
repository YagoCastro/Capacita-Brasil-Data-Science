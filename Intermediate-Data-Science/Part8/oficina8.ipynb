{
 "cells": [
  {
   "cell_type": "markdown",
   "metadata": {},
   "source": [
    "# Oficina 8: Usando técnicas e estratégias de análise de dados"
   ]
  },
  {
   "cell_type": "markdown",
   "metadata": {},
   "source": [
    "Vamos imaginar uma situação: você está analisando um conjunto de dados de clientes de um supermercado. Esse conjunto inclui várias variáveis, como idade, frequência de compras, categorias de produtos adquiridos e o total gasto. Agora, compartilhe suas ideias! Como você acredita que podemos simplificar essa análise para identificar padrões de compra? A empresa quer entender melhor o comportamento dos clientes, e esse é um desafio interessante! Quais estratégias ou técnicas você acha que poderíamos usar para tornar essa análise mais clara e eficaz? Estou curioso para suas ideias!"
   ]
  },
  {
   "cell_type": "markdown",
   "metadata": {},
   "source": [
    "Pergunta:\n",
    "\n",
    "1.Qual técnica de aprendizado não supervisionado você recomendaria para reduzir a dimensionalidade do conjunto de dados e qual é o objetivo principal dessa técnica?\n",
    "\n",
    "2.Após a redução da dimensionalidade, a empresa deseja encontrar quais produtos são frequentemente comprados juntos. Qual método de associação seria mais adequado para essa tarefa e por quê?"
   ]
  },
  {
   "cell_type": "markdown",
   "metadata": {},
   "source": [
    "Para ajudá-lo a se guiar na sua resposta, veja alguns aspectos que você pode levar em consideração:\n",
    "\n",
    "Técnica de Redução de Dimensionalidade:\n",
    "\n",
    "- Nome da Técnica\n",
    "\n",
    "- Objetivo Principal da Técnica\n",
    "\n",
    "Justificativa da escolha da técnica\n",
    "\n",
    "- Método de Associação:\n",
    "\n",
    "- Nome do Método\n",
    "\n",
    "- Justificativa para a escolha do método\n",
    "\n",
    "Explicação de como o método atende ao objetivo de encontrar padrões de associação\n",
    "\n",
    " \n",
    "\n",
    "É hora de colocar seu conhecimento em prática! Vamos lá, aluno! Estou animado para participar de tudo o que você irá fazer!"
   ]
  },
  {
   "cell_type": "markdown",
   "metadata": {},
   "source": [
    "## Respostas:"
   ]
  },
  {
   "cell_type": "markdown",
   "metadata": {},
   "source": [
    "# Questão 1\n",
    "Técnica de Redução de Dimensionalidade:"
   ]
  },
  {
   "cell_type": "markdown",
   "metadata": {},
   "source": [
    "- Nome da Técnica: PCA (Análise de Componentes Principais)\n",
    "\n",
    "- Objetivo Principal da Técnica: Reduzir a quantidade de variáveis no conjunto de dados mantendo a maior variabilidade possível, facilitando a análise e interpretação dos padrões dos clientes.\n",
    "\n",
    "- Justificativa da Escolha: O PCA é útil quando há muitas variáveis correlacionadas, como idade, frequência de compras e total gasto. Ele transforma as variáveis originais em um novo conjunto de componentes principais, preservando a maior parte da informação com menos dimensões. Isso ajuda a evitar redundâncias e melhora o desempenho de algoritmos posteriores.\n"
   ]
  },
  {
   "cell_type": "markdown",
   "metadata": {},
   "source": [
    "# Questão 2\n",
    "Método de Associação:"
   ]
  },
  {
   "cell_type": "markdown",
   "metadata": {},
   "source": [
    "- Nome do Método: Algoritmo Apriori\n",
    "\n",
    "- Justificativa para a escolha: O algoritmo Apriori é amplamente usado para mineração de regras de associação, identificando produtos que costumam ser comprados juntos. Ele utiliza suporte, confiança e lift para encontrar relações significativas entre itens.\n",
    "\n",
    "- Explicação: A empresa deseja entender quais produtos são frequentemente comprados juntos. O Apriori analisa transações do supermercado e descobre associações entre produtos. Por exemplo, se muitas pessoas compram leite e pão juntos, a empresa pode criar promoções combinadas ou ajustar o layout da loja para incentivar compras complementares."
   ]
  }
 ],
 "metadata": {
  "language_info": {
   "name": "python"
  }
 },
 "nbformat": 4,
 "nbformat_minor": 2
}
