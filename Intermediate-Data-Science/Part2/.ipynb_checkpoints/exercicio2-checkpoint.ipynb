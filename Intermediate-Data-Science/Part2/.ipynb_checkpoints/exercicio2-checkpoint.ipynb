{
 "cells": [
  {
   "cell_type": "markdown",
   "id": "8d25ca7c",
   "metadata": {},
   "source": [
    "# Questão1\n",
    "Qual é o principal objetivo da mineração de dados?"
   ]
  },
  {
   "cell_type": "markdown",
   "id": "b0df6595",
   "metadata": {},
   "source": [
    "a.\n",
    "Armazenar grandes volumes de dados.\n",
    "\n",
    "b.\n",
    "Criar gráficos e visualizações dos dados.\n",
    "\n",
    "**c.\n",
    "Transformar dados brutos em insights úteis.**\n",
    "\n",
    "d.\n",
    "Aumentar a segurança dos dados."
   ]
  },
  {
   "cell_type": "markdown",
   "id": "84ac66fc",
   "metadata": {},
   "source": [
    "# Questão2\n",
    "Qual etapa do CRISP-DM envolve a limpeza e formatação dos dados?"
   ]
  },
  {
   "cell_type": "markdown",
   "id": "0c264788",
   "metadata": {},
   "source": [
    "a.\n",
    "Avaliação.\n",
    "\n",
    "b.\n",
    "Modelagem.\n",
    "\n",
    "**c.\n",
    "Preparação dos Dados.**\n",
    "\n",
    "d.\n",
    "Entendimento do Negócio."
   ]
  },
  {
   "cell_type": "markdown",
   "id": "b6d178bb",
   "metadata": {},
   "source": [
    "# Questão3\n",
    "Qual técnica de mineração de dados é utilizada para agrupar dados semelhantes?"
   ]
  },
  {
   "cell_type": "markdown",
   "id": "92bd0ea1",
   "metadata": {},
   "source": [
    "**a.\n",
    "Análise de Cluster.**\n",
    "\n",
    "b.\n",
    "Regras de Associação.\n",
    "\n",
    "c.\n",
    "Classificação\n",
    "\n",
    "d.\n",
    "Regressão."
   ]
  },
  {
   "cell_type": "markdown",
   "id": "f479ad1d",
   "metadata": {},
   "source": [
    "# Questão4\n",
    "Em qual setor a mineração de dados pode ser aplicada para personalização de campanhas?"
   ]
  },
  {
   "cell_type": "markdown",
   "id": "f0ca5e8a",
   "metadata": {},
   "source": [
    "a.\n",
    "Saúde.\n",
    "\n",
    "\n",
    "b.\n",
    "Educação.\n",
    "\n",
    "\n",
    "c.\n",
    "Finanças.\n",
    "\n",
    "\n",
    "**d.\n",
    "Marketing.**"
   ]
  },
  {
   "cell_type": "markdown",
   "id": "be04ff5f",
   "metadata": {},
   "source": [
    "# Questão5\n",
    "Qual a principal diferença entre KDD e mineração de dados?"
   ]
  },
  {
   "cell_type": "markdown",
   "id": "3f82d83a",
   "metadata": {},
   "source": [
    "a.\n",
    "Mineração de dados utiliza apenas algoritmos de IA.\n",
    "\n",
    "**b.\n",
    "KDD é um processo completo de descoberta de conhecimento.**\n",
    "\n",
    "c.\n",
    "KDD envolve o uso de técnicas estatísticas.\n",
    "\n",
    "d.\n",
    "Mineração de dados é um processo mais complexo."
   ]
  },
  {
   "cell_type": "markdown",
   "id": "56a27518",
   "metadata": {},
   "source": [
    "# Questão6\n",
    "Qual técnica de mineração de dados é utilizada para prever categorias?"
   ]
  },
  {
   "cell_type": "markdown",
   "id": "b20ce7b1",
   "metadata": {},
   "source": [
    "\n",
    "**a.\n",
    "Classificação.**\n",
    "\n",
    "b.\n",
    "Análise de Cluster.\n",
    "\n",
    "c.\n",
    "Regressão.\n",
    "\n",
    "d.\n",
    "Regras de Associação."
   ]
  },
  {
   "cell_type": "markdown",
   "id": "f2cbefdd",
   "metadata": {},
   "source": [
    "# Questão7\n",
    "Em qual etapa do CRISP-DM ocorre a aplicação de algoritmos para criar modelos?"
   ]
  },
  {
   "cell_type": "markdown",
   "id": "df507406",
   "metadata": {},
   "source": [
    "a.\n",
    "Entendimento dos Dados.\n",
    "\n",
    "\n",
    "**b.\n",
    "Modelagem.**\n",
    "\n",
    "\n",
    "c.\n",
    "Entendimento do Negócio.\n",
    "\n",
    "\n",
    "d.\n",
    "Implementação"
   ]
  },
  {
   "cell_type": "markdown",
   "id": "9b6339ae",
   "metadata": {},
   "source": [
    "# Questão8\n",
    "Qual setor pode utilizar mineração de dados para análise de prontuários médicos?"
   ]
  },
  {
   "cell_type": "markdown",
   "id": "dc49ad57",
   "metadata": {},
   "source": [
    "\n",
    "a.\n",
    "Educação.\n",
    "\n",
    "**b.\n",
    "Saúde.**\n",
    "\n",
    "c.\n",
    "Marketing.\n",
    "\n",
    "d.\n",
    "Finanças."
   ]
  },
  {
   "cell_type": "markdown",
   "id": "41e98b97",
   "metadata": {},
   "source": [
    "# Questão9\n",
    "Qual a função das Regras de Associação na mineração de dados?"
   ]
  },
  {
   "cell_type": "markdown",
   "id": "67e38c43",
   "metadata": {},
   "source": [
    "a.\n",
    "Prever categorias.\n",
    "\n",
    "b.\n",
    "Agrupar dados semelhantes.\n",
    "\n",
    "c.\n",
    "Identificar transações suspeitas.\n",
    "\n",
    "**d.\n",
    "Encontrar relacionamentos entre variáveis.**"
   ]
  },
  {
   "cell_type": "markdown",
   "id": "ed59cb14",
   "metadata": {},
   "source": [
    "# Questão10\n",
    "O que envolve a etapa de Implementação no CRISP-DM?"
   ]
  },
  {
   "cell_type": "markdown",
   "id": "1307f934",
   "metadata": {},
   "source": [
    "\n",
    "**a.\n",
    "Colocar o modelo em produção.**\n",
    "\n",
    "b.\n",
    "Avaliar a qualidade dos modelos.\n",
    "\n",
    "c.\n",
    "Aplicar algoritmos para criar modelos.\n",
    "\n",
    "d.\n",
    "Coletar dados iniciais."
   ]
  }
 ],
 "metadata": {
  "kernelspec": {
   "display_name": "Python 3 (ipykernel)",
   "language": "python",
   "name": "python3"
  },
  "language_info": {
   "codemirror_mode": {
    "name": "ipython",
    "version": 3
   },
   "file_extension": ".py",
   "mimetype": "text/x-python",
   "name": "python",
   "nbconvert_exporter": "python",
   "pygments_lexer": "ipython3",
   "version": "3.9.13"
  }
 },
 "nbformat": 4,
 "nbformat_minor": 5
}
