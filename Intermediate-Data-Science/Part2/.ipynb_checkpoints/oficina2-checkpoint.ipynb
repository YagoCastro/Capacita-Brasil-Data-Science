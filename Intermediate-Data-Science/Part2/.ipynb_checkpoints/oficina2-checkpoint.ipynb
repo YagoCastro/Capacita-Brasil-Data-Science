{
 "cells": [
  {
   "cell_type": "markdown",
   "id": "72d6bf0a",
   "metadata": {},
   "source": [
    "<div style=\"text-align: center;\">\n",
    "\n",
    "# Oficina 2: Etapas da mineração\n",
    "    \n",
    "</div>"
   ]
  },
  {
   "cell_type": "markdown",
   "id": "bec6b74a",
   "metadata": {},
   "source": [
    "<div style=\"text-align: justify;\">\n",
    "    \n",
    "Agora você vai praticar o que aprendeu neste conteúdo da aula de Fundamentos de Mineração de Dados. **Imagine que você é um cientista de dados encarregado de resolver um problema complexo em um setor à sua escolha, como saúde, finanças, varejo ou outro de sua preferência.**\n",
    "    \n",
    "</div>"
   ]
  },
  {
   "cell_type": "markdown",
   "id": "2f77f004",
   "metadata": {},
   "source": [
    "<div style=\"text-align: justify;\">\n",
    "    \n",
    "Com base no que discutimos sobre Ciência de Dados, KDD, Mineração de Dados e o processo CRISP-DM, descreva como você aplicaria cada uma dessas etapas para abordar e solucionar esse problema.\n",
    "\n",
    "</div>"
   ]
  },
  {
   "cell_type": "markdown",
   "id": "7c810ef0",
   "metadata": {},
   "source": [
    "<div style=\"text-align: justify;\">\n",
    "\n",
    "Por exemplo, como você definiria o objetivo de negócio na fase de “Entendimento do Negócio”? Quais tipos de dados seriam necessários na fase de “Entendimento dos Dados” para alcançar esse objetivo? Que procedimentos você seguiria na “Preparação dos Dados” para garantir que eles estejam prontos para a análise? Quais algoritmos ou técnicas você usaria na “Modelagem” para extrair padrões e insights dos dados? E como você avaliaria os resultados para garantir que eles estão alinhados com os objetivos do negócio antes de implementá-los para gerar valor real?\n",
    "\n",
    "</div>"
   ]
  },
  {
   "cell_type": "markdown",
   "id": "995e77e2",
   "metadata": {},
   "source": [
    "Explique como cada conceito discutido se integra ao longo dessas fases e como sua aplicação prática no setor escolhido pode ajudar a resolver o problema de maneira eficaz e orientada por dados.\n",
    "\n",
    "Inclua um exemplo de aplicação prática em um setor de sua escolha, explicando como cada um desses conceitos é utilizado para resolver um problema específico."
   ]
  },
  {
   "cell_type": "markdown",
   "id": "178fee73",
   "metadata": {},
   "source": [
    "# Questão\n",
    "Tendo como exemplo uma aplicação na área de saúde para a classificação "
   ]
  },
  {
   "cell_type": "markdown",
   "id": "e7c8b29c",
   "metadata": {},
   "source": [
    "## Entendimento do negócio: "
   ]
  },
  {
   "cell_type": "markdown",
   "id": "6de7a1f8",
   "metadata": {},
   "source": [
    "## Entendimento dos dados:"
   ]
  },
  {
   "cell_type": "markdown",
   "id": "6270e1e8",
   "metadata": {},
   "source": [
    "## Preparação dos dados:"
   ]
  },
  {
   "cell_type": "markdown",
   "id": "89e57bae",
   "metadata": {},
   "source": [
    "## Modelagem:"
   ]
  },
  {
   "cell_type": "markdown",
   "id": "e8811d43",
   "metadata": {},
   "source": [
    "## Avaliação: "
   ]
  },
  {
   "cell_type": "markdown",
   "id": "39b5a3a1",
   "metadata": {},
   "source": [
    "## Implementação (deployment):"
   ]
  },
  {
   "cell_type": "markdown",
   "id": "2226c216",
   "metadata": {},
   "source": []
  },
  {
   "cell_type": "markdown",
   "id": "2f61ce17",
   "metadata": {},
   "source": []
  }
 ],
 "metadata": {
  "kernelspec": {
   "display_name": "Python 3 (ipykernel)",
   "language": "python",
   "name": "python3"
  },
  "language_info": {
   "codemirror_mode": {
    "name": "ipython",
    "version": 3
   },
   "file_extension": ".py",
   "mimetype": "text/x-python",
   "name": "python",
   "nbconvert_exporter": "python",
   "pygments_lexer": "ipython3",
   "version": "3.9.13"
  }
 },
 "nbformat": 4,
 "nbformat_minor": 5
}
