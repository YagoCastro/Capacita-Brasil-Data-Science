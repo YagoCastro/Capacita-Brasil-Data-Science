{
 "cells": [
  {
   "cell_type": "markdown",
   "id": "72d6bf0a",
   "metadata": {},
   "source": [
    "<div style=\"text-align: center;\">\n",
    "\n",
    "# Oficina 2: Etapas da mineração\n",
    "    \n",
    "</div>"
   ]
  },
  {
   "cell_type": "markdown",
   "id": "bec6b74a",
   "metadata": {},
   "source": [
    "<div style=\"text-align: justify;\">\n",
    "    \n",
    "Agora você vai praticar o que aprendeu neste conteúdo da aula de Fundamentos de Mineração de Dados. **Imagine que você é um cientista de dados encarregado de resolver um problema complexo em um setor à sua escolha, como saúde, finanças, varejo ou outro de sua preferência.**\n",
    "    \n",
    "</div>"
   ]
  },
  {
   "cell_type": "markdown",
   "id": "2f77f004",
   "metadata": {},
   "source": [
    "<div style=\"text-align: justify;\">\n",
    "    \n",
    "Com base no que discutimos sobre Ciência de Dados, KDD, Mineração de Dados e o processo CRISP-DM, descreva como você aplicaria cada uma dessas etapas para abordar e solucionar esse problema.\n",
    "\n",
    "</div>"
   ]
  },
  {
   "cell_type": "markdown",
   "id": "7c810ef0",
   "metadata": {},
   "source": [
    "<div style=\"text-align: justify;\">\n",
    "\n",
    "Por exemplo, como você definiria o objetivo de negócio na fase de “Entendimento do Negócio”? Quais tipos de dados seriam necessários na fase de “Entendimento dos Dados” para alcançar esse objetivo? Que procedimentos você seguiria na “Preparação dos Dados” para garantir que eles estejam prontos para a análise? Quais algoritmos ou técnicas você usaria na “Modelagem” para extrair padrões e insights dos dados? E como você avaliaria os resultados para garantir que eles estão alinhados com os objetivos do negócio antes de implementá-los para gerar valor real?\n",
    "\n",
    "</div>"
   ]
  },
  {
   "cell_type": "markdown",
   "id": "995e77e2",
   "metadata": {},
   "source": [
    "Explique como cada conceito discutido se integra ao longo dessas fases e como sua aplicação prática no setor escolhido pode ajudar a resolver o problema de maneira eficaz e orientada por dados.\n",
    "\n",
    "Inclua um exemplo de aplicação prática em um setor de sua escolha, explicando como cada um desses conceitos é utilizado para resolver um problema específico."
   ]
  },
  {
   "cell_type": "markdown",
   "id": "178fee73",
   "metadata": {},
   "source": [
    "# Questão\n",
    "Tendo como exemplo uma aplicação na área de saúde para a classificação "
   ]
  },
  {
   "cell_type": "markdown",
   "id": "e7c8b29c",
   "metadata": {},
   "source": [
    "## Entendimento do negócio: "
   ]
  },
  {
   "cell_type": "markdown",
   "id": "76325969",
   "metadata": {},
   "source": [
    "Considerando uma aplicação na área da saúde para a classificação, por exemplo, de um paciente ter ou não uma determinada doença, a etapa de entendimento do negócio é onde o profissional de ciência de dados vai se reunir com outros profissionais da área de estudo ou realizar pesquisas sobre o assunto tratado no projeto. Essa etapa é extremamente importante, pois é nela que o profissional entenderá melhor o objetivo do projeto. Isso é crucial, pois ele pode construir uma solução que não resolva o problema real da área, por isso é necessário que o objetivo esteja bem definido. Nessa fase, ele também irá identificar as principais métricas e questões relevantes na área, com base em estudos e conceitos já existentes, que podem auxiliar no desenvolvimento do projeto."
   ]
  },
  {
   "cell_type": "markdown",
   "id": "6de7a1f8",
   "metadata": {},
   "source": [
    "## Entendimento dos dados:"
   ]
  },
  {
   "cell_type": "markdown",
   "id": "713b29bc",
   "metadata": {},
   "source": [
    "Esta é a etapa em que o modelo vai compreender melhor cada feature do conjunto de dados. Principalmente em projetos relacionados à saúde, é muito importante entender os dados, sua função e a unidade em que estão sendo medidos. Tudo isso deve ser resumido em um dicionário de dados que acompanhará todo o projeto. É essencial entender como os dados foram obtidos, qual a escala de variação de cada dado, o tipo de dado e por que determinados valores podem aparecer em uma feature, como valores nulos, faltantes ou -1. Além disso, a partir dos estudos, é necessário identificar quais features têm apresentado maior relevância para o estudo."
   ]
  },
  {
   "cell_type": "markdown",
   "id": "6270e1e8",
   "metadata": {},
   "source": [
    "## Preparação dos dados:"
   ]
  },
  {
   "cell_type": "markdown",
   "id": "dbbeacb3",
   "metadata": {},
   "source": [
    "A preparação dos dados podemos resumir três etapas nessa seção, seria: limpeza dos dados, análise dos dados e pré-processamento dos dados, todas essas são importantes para a verificação das variáveis do conjunto e prepara-las de forma correta para o modelo. Nessa etapa também podemos preparar vários datasets com deferentes técnicas de limpeza e pré-processamento dos dados para aplicar no modelo, por exemplo, podemos deixar um dataset com todas as features tratadas e devidamente padronizadas, podemos deixar outro dataset com a aplicação do PCA ou algum técnica de redução de dimensionalidade, outro dataset com a criação de features, ou seja, todos para ter um maior campo de teste para a aplicação do modelo."
   ]
  },
  {
   "cell_type": "markdown",
   "id": "89e57bae",
   "metadata": {},
   "source": [
    "## Modelagem:"
   ]
  },
  {
   "cell_type": "markdown",
   "id": "60c41554",
   "metadata": {},
   "source": [
    "A modelagem é a etapa em que os modelos de machine learning serão efetivamente aplicados. Essa é uma etapa crucial para o treinamento do modelo, e é fundamental realizar corretamente a divisão do conjunto de dados em treino e teste, ou em treino, teste e validação. Nesta etapa, também é importante verificar o ajuste dos hiperparâmetros do modelo."
   ]
  },
  {
   "cell_type": "markdown",
   "id": "e8811d43",
   "metadata": {},
   "source": [
    "## Avaliação: "
   ]
  },
  {
   "cell_type": "markdown",
   "id": "d889bf08",
   "metadata": {},
   "source": [
    "Na etapa de avaliação, serão primeiramente escolhidas as métricas que fazem mais sentido para o estudo. Será realizada uma análise de comparação entre os modelos obtidos, verificando também a questão de overfitting ou underfitting. Além disso, será feita a comparação entre a redução da complexidade do conjunto de dados, o valor obtido para a métrica de avaliação e o custo computacional do modelo."
   ]
  },
  {
   "cell_type": "markdown",
   "id": "39b5a3a1",
   "metadata": {},
   "source": [
    "## Implementação (deployment):"
   ]
  },
  {
   "cell_type": "markdown",
   "id": "5440a1f6",
   "metadata": {},
   "source": [
    "É nesta etapa que o modelo será de fato colocado em produção, e as demais pessoas poderão utilizar a aplicação construída. Nesse processo, é possível utilizar diversas ferramentas para hospedar a aplicação, como um servidor criado a partir do Flask, uma integração com o Telegram ou uma aplicação desenvolvida com o Streamlit."
   ]
  }
 ],
 "metadata": {
  "kernelspec": {
   "display_name": "Python 3 (ipykernel)",
   "language": "python",
   "name": "python3"
  },
  "language_info": {
   "codemirror_mode": {
    "name": "ipython",
    "version": 3
   },
   "file_extension": ".py",
   "mimetype": "text/x-python",
   "name": "python",
   "nbconvert_exporter": "python",
   "pygments_lexer": "ipython3",
   "version": "3.9.13"
  }
 },
 "nbformat": 4,
 "nbformat_minor": 5
}
