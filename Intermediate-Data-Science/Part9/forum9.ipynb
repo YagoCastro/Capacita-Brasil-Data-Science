{
 "cells": [
  {
   "cell_type": "markdown",
   "metadata": {},
   "source": [
    "# Fórum 9: Refletindo o uso de processamento de linguagem natural"
   ]
  },
  {
   "cell_type": "markdown",
   "metadata": {},
   "source": [
    "O processamento de linguagem natural (PLN) é uma área da Inteligência Artificial que ensina os computadores a ler, interpretar e entender textos. Isso é muito útil em várias situações, como traduzir textos, responder perguntas ou recomendar filmes com base em descrições. Neste fórum, você vai explorar como os computadores “leem” as palavras e transformam frases em informações que eles possam entender e usar."
   ]
  },
  {
   "cell_type": "markdown",
   "metadata": {},
   "source": [
    "Imagine que você está criando um programa que vai ajudar alunos a escolherem livros para ler, analisando as descrições dos livros. No entanto, o computador não consegue entender palavras como nós, humanos. Para isso, você precisa ensinar a máquina a reconhecer palavras importantes em uma frase para ajudar o sistema a classificar se um livro é de aventura, romance ou mistério. Por exemplo, em uma frase como: “Uma jornada perigosa para encontrar um tesouro escondido”, quais palavras você acha que o computador deve focar para identificar que esse livro é de aventura?"
   ]
  },
  {
   "cell_type": "markdown",
   "metadata": {},
   "source": [
    "Se você tivesse que ensinar o computador a identificar um livro de aventura, quais palavras na frase “Uma jornada perigosa para encontrar um tesouro escondido” você destacaria como importantes? Explique por que você escolheu essas palavras."
   ]
  },
  {
   "cell_type": "markdown",
   "metadata": {},
   "source": [
    "Acredito que para ensinar um computador a identidicar que um livro é de aventura com base na frase:\n"
   ]
  },
  {
   "cell_type": "markdown",
   "metadata": {},
   "source": [
    "<div style=\"text-align: center;\">Uma jornada perigosa para encontrar um tesouro escondido</div>\n"
   ]
  },
  {
   "cell_type": "markdown",
   "metadata": {},
   "source": [
    "Eu destacaria as seguintes palavras na frase:\n",
    "\n",
    "- Jornada: Que faz referência a viagem ou uma expedição, o que é comum em histórias de aventura.\n",
    "\n",
    "- Perigosa: Apesar do perigo está presente também em outros gêneros de livros, ele também é marcante nos livros de aventura, visto que, o risco e os desafios são características marcantes do gênero de aventura.\n",
    "\n",
    "- Tesouro: Muitas narrativas de aventura envolvem a busca por algo valioso ou misterioso.\n",
    "\n",
    "- Escondido: Esse termo reforça a ideia de exploração e descoberta, elementos típicos de histórias de aventura.\n"
   ]
  }
 ],
 "metadata": {
  "language_info": {
   "name": "python"
  }
 },
 "nbformat": 4,
 "nbformat_minor": 2
}
