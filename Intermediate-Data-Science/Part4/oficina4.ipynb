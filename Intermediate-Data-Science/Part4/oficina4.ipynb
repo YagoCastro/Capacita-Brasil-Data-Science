{
 "cells": [
  {
   "cell_type": "markdown",
   "metadata": {},
   "source": []
  },
  {
   "cell_type": "markdown",
   "metadata": {},
   "source": [
    "Imagine que você está ajudando a sua tia a organizar um evento de aniversário para crianças e ela quer utilizar um computador para classificar as fotos dos convidados em dois grupos: “Amigos” e “Familiares”. Para isso, você decide usar um programa de computador que pode aprender a identificar esses grupos a partir das fotos."
   ]
  },
  {
   "cell_type": "markdown",
   "metadata": {},
   "source": []
  },
  {
   "cell_type": "code",
   "execution_count": null,
   "metadata": {},
   "outputs": [],
   "source": [
    "import numpy as np\n",
    "\n",
    "import matplotlib.pyplot as plt\n",
    "\n",
    "import tensorflow as tf\n",
    "from tensorflow import keras\n",
    "from tensorflow.keras import layers\n",
    "from tensorflow.keras.preprocessing.image import ImageDataGenerator\n",
    "\n"
   ]
  },
  {
   "cell_type": "code",
   "execution_count": null,
   "metadata": {},
   "outputs": [],
   "source": [
    "# Diretórios para os conjuntos de dados\n",
    "treino_dir = 'dataset/train'\n",
    "teste_dir = 'dataset/test'"
   ]
  },
  {
   "cell_type": "code",
   "execution_count": null,
   "metadata": {},
   "outputs": [],
   "source": [
    "# Pré-processamento das imagens\n",
    "datagen = ImageDataGenerator(rescale=1./255, validation_split=0.2)"
   ]
  },
  {
   "cell_type": "code",
   "execution_count": null,
   "metadata": {},
   "outputs": [],
   "source": [
    "treino_gen = datagen.flow_from_directory(\n",
    "    treino_dir, target_size=(150, 150), batch_size=32, class_mode='binary', subset='training')\n",
    "\n",
    "valid_gen = datagen.flow_from_directory(\n",
    "    treino_dir, target_size=(150, 150), batch_size=32, class_mode='binary', subset='validation')"
   ]
  },
  {
   "cell_type": "code",
   "execution_count": null,
   "metadata": {},
   "outputs": [],
   "source": [
    "# Criando o modelo CNN\n",
    "model = keras.Sequential([\n",
    "    layers.Conv2D(32, (3, 3), activation='relu', input_shape=(150, 150, 3)),\n",
    "    layers.MaxPooling2D(2, 2),\n",
    "    layers.Conv2D(64, (3, 3), activation='relu'),\n",
    "    layers.MaxPooling2D(2, 2),\n",
    "    layers.Conv2D(128, (3, 3), activation='relu'),\n",
    "    layers.MaxPooling2D(2, 2),\n",
    "    layers.Flatten(),\n",
    "    layers.Dense(512, activation='relu'),\n",
    "    layers.Dense(1, activation='sigmoid')\n",
    "])"
   ]
  },
  {
   "cell_type": "code",
   "execution_count": null,
   "metadata": {},
   "outputs": [],
   "source": [
    "model.compile(optimizer='adam', loss='binary_crossentropy', metrics=['accuracy'])"
   ]
  },
  {
   "cell_type": "code",
   "execution_count": null,
   "metadata": {},
   "outputs": [],
   "source": [
    "# Treinando o modelo\n",
    "history = model.fit(treino_gen, validation_data=valid_gen, epochs=10)"
   ]
  },
  {
   "cell_type": "code",
   "execution_count": null,
   "metadata": {},
   "outputs": [],
   "source": [
    "# Testando o modelo\n",
    "teste_gen = ImageDataGenerator(rescale=1./255).flow_from_directory(\n",
    "    teste_dir, target_size=(150, 150), batch_size=32, class_mode='binary')\n",
    "\n",
    "loss, acc = model.evaluate(teste_gen)\n",
    "print(f'Acurácia do modelo: {acc * 100:.2f}%')\n"
   ]
  },
  {
   "cell_type": "code",
   "execution_count": null,
   "metadata": {},
   "outputs": [],
   "source": [
    "\n",
    "# Exemplo de previsão\n",
    "img_path = 'dataset/test/img.jpg'\n",
    "img = keras.preprocessing.image.load_img(img_path, target_size=(150, 150))\n",
    "img_array = keras.preprocessing.image.img_to_array(img)\n",
    "img_array = np.expand_dims(img_array, axis=0) / 255.0\n",
    "\n",
    "prediction = model.predict(img_array)\n",
    "print(\"Este é um ator dos Vingadores?\", \"Sim\" if prediction[0][0] > 0.5 else \"Não\")"
   ]
  }
 ],
 "metadata": {
  "kernelspec": {
   "display_name": "intermediate_venv",
   "language": "python",
   "name": "python3"
  },
  "language_info": {
   "name": "python",
   "version": "3.11.9"
  }
 },
 "nbformat": 4,
 "nbformat_minor": 2
}
