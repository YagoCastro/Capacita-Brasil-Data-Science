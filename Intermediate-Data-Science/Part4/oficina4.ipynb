{
 "cells": [
  {
   "cell_type": "markdown",
   "metadata": {},
   "source": []
  },
  {
   "cell_type": "markdown",
   "metadata": {},
   "source": [
    "Imagine que você está ajudando a sua tia a organizar um evento de aniversário para crianças e ela quer utilizar um computador para classificar as fotos dos convidados em dois grupos: “Amigos” e “Familiares”. Para isso, você decide usar um programa de computador que pode aprender a identificar esses grupos a partir das fotos."
   ]
  },
  {
   "cell_type": "markdown",
   "metadata": {},
   "source": []
  },
  {
   "cell_type": "code",
   "execution_count": null,
   "metadata": {},
   "outputs": [],
   "source": [
    "import numpy as np\n",
    "\n",
    "import matplotlib.pyplot as plt\n",
    "\n",
    "import tensorflow as tf\n",
    "from tensorflow import keras\n",
    "from tensorflow.keras import layers\n",
    "from tensorflow.keras.preprocessing.image import ImageDataGenerator\n",
    "\n"
   ]
  },
  {
   "cell_type": "markdown",
   "metadata": {},
   "source": [
    "# Conjuntos de dados\n",
    "treino_dir = 'dataset/train'\n",
    "teste_dir = 'dataset/test'"
   ]
  }
 ],
 "metadata": {
  "kernelspec": {
   "display_name": "intermediate_venv",
   "language": "python",
   "name": "python3"
  },
  "language_info": {
   "name": "python",
   "version": "3.11.9"
  }
 },
 "nbformat": 4,
 "nbformat_minor": 2
}
