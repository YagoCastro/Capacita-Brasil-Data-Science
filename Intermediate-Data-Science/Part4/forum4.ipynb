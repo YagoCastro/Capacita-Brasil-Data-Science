{
 "cells": [
  {
   "cell_type": "markdown",
   "metadata": {},
   "source": [
    "Fórum 4: Usos da inteligência artificial e frameworks de IA"
   ]
  },
  {
   "cell_type": "markdown",
   "metadata": {},
   "source": [
    "Na videoaula de hoje, você explorou o papel fundamental da programação na criação de sistemas inteligentes que aprendem e se adaptam. Entendeu como frameworks, como TensorFlow e PyTorch, facilitam a implementação e o treinamento de redes neurais para diversas aplicações e percebeu como essas tecnologias estão moldando o futuro. Agora é a sua vez de refletir e compartilhar suas percepções!\n",
    "\n",
    "Perguntas para reflexão e discussão:"
   ]
  },
  {
   "cell_type": "markdown",
   "metadata": {},
   "source": [
    "# Questão 1 \n",
    "Como você imagina que a Inteligência Artificial pode ser usada para resolver problemas do cotidiano? Você consegue pensar em algum exemplo em que a IA poderia melhorar uma atividade rotineira ou um processo no seu dia a dia?"
   ]
  },
  {
   "cell_type": "markdown",
   "metadata": {},
   "source": [
    "- Como exemplo inicial, eu poderia pensar em um sistema próprio para prever a hora dos ônibus e facilitar o deslocamento até a universidade.\n",
    "- Também poderia desenvolver um sistema que analisasse meu progresso na academia com base em dados coletados, ajudando a melhorar o ganho de massa muscular. Além disso, poderia criar um sistema para auxiliar na manutenção de uma alimentação saudável.\n",
    "- Outra possibilidade seria um projeto de Inteligência Artificial para corrigir textos em inglês, facilitando os estudos."
   ]
  },
  {
   "cell_type": "markdown",
   "metadata": {},
   "source": [
    "# Questão 2 \n",
    "Considerando a complexidade envolvida na construção de modelos de IA, o que você acha que pode ser mais desafiador: criar uma rede neural do zero ou ajustá-la para obter resultados precisos? Por quê?"
   ]
  },
  {
   "cell_type": "markdown",
   "metadata": {},
   "source": [
    "Considerando a existência de bibliotecas que auxiliam na construção de redes neurais, como TensorFlow e PyTorch, a definição da quantidade de camadas e neurônios se torna mais fácil. No entanto, para obter um bom desempenho, é necessário ajustar os hiperparâmetros corretamente. Isso envolve conhecê-los, realizar um pré-processamento eficiente dos dados para melhorar o treinamento do modelo e evitar problemas como overfitting e underfitting."
   ]
  },
  {
   "cell_type": "markdown",
   "metadata": {},
   "source": [
    "# Questão 3\n",
    "Em sua opinião, como o aprendizado e o uso de frameworks de IA (como TensorFlow ou PyTorch) podem impactar o mercado de trabalho e sua futura carreira?"
   ]
  },
  {
   "cell_type": "markdown",
   "metadata": {},
   "source": [
    "Os frameworks de IA no trabalho permitem criar soluções avançadas para diversos problemas, sejam eles complexos ou não, de forma mais acessível, generalizada e dinâmica. Isso ocorre porque, como profissional, compreendo a base do funcionamento da IA e, por meio do framework e da linguagem de programação, consigo aplicá-la a problemas que envolvem um grande volume de amostras ou variáveis, aproximando o poder computacional das soluções de negócio."
   ]
  },
  {
   "cell_type": "markdown",
   "metadata": {},
   "source": [
    "Por favor, compartilhe sua resposta usando exemplos da sua realidade ou de situações que você conhece. Vamos construir juntos um espaço enriquecedor de troca de ideias e aprendizado!"
   ]
  }
 ],
 "metadata": {
  "language_info": {
   "name": "python"
  }
 },
 "nbformat": 4,
 "nbformat_minor": 2
}
