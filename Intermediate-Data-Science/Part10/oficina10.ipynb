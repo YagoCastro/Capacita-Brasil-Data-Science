{
 "cells": [
  {
   "cell_type": "markdown",
   "metadata": {},
   "source": [
    "# Oficina 10: Treinamento de um chatbot"
   ]
  },
  {
   "cell_type": "markdown",
   "metadata": {},
   "source": [
    "Você foi contratado para melhorar a experiência de usuários em um aplicativo de atendimento ao cliente por meio de um chatbot. O objetivo é que o chatbot seja capaz de responder a perguntas frequentes e ajudar na resolução de problemas de maneira eficiente. Com base nos conhecimentos adquiridos sobre modelos avançados de Processamento de Linguagem Natural (PLN) e chatbots, explique como você utilizaria as técnicas de Word2Vec, Redes Neurais Recorrentes (RNN) e Análise de Sentimentos para aprimorar o chatbot.\n",
    "\n",
    "Pergunta:\n",
    "\n",
    "De que maneira o uso do Word2Vec ajudaria o chatbot a entender diferentes variações das perguntas dos usuários?\n",
    "\n",
    " \n",
    "\n",
    "Como o uso de redes neurais recorrentes pode impactar a continuidade do diálogo em uma conversa mais longa com o chatbot? Para ajudá-lo a guiar na sua resposta veja alguns aspectos que você pode levar em consideração:\n",
    "\n",
    " \n",
    "\n",
    "Apresentar um plano claro de como utilizar as tecnologias mencionadas para otimizar o chatbot;\n",
    "\n",
    "Explicar brevemente o papel de cada técnica no aprimoramento do chatbot;\n",
    "\n",
    "Demonstrar compreensão de como integrar essas ferramentas para criar uma interação mais eficiente com os usuários.\n",
    "\n"
   ]
  },
  {
   "cell_type": "markdown",
   "metadata": {},
   "source": [
    "# Questão 1\n",
    "Utilização do Word2Vec para Entendimento das Perguntas do Usuário"
   ]
  },
  {
   "cell_type": "markdown",
   "metadata": {},
   "source": [
    "É uma técnica de aprendizado de representações de palavras que permite ao chatbot capturar relações semânticas entre palavras e entender diferentes formas de perguntas feitas pelo usuário. Ele transforma palavras em vetores numéricos de forma que palavras com significados semelhantes fiquem próximas no espaço vetorial.\n",
    "\n",
    "Benefícios para o chatbot:\n",
    "- Permite que o chatbot compreenda variações linguísticas, sinônimos e diferentes formas de expressar a mesma questão.\n",
    "- Reduz a necessidade de criar regras manuais para cada variação de uma pergunta comum.\n",
    "- Facilita o treinamento do modelo ao tornar o reconhecimento de intenções mais robusto."
   ]
  },
  {
   "cell_type": "markdown",
   "metadata": {},
   "source": [
    "# Questão 2\n",
    "Uso de Redes Neurais Recorrentes (RNN) para Diálogos Contínuos"
   ]
  },
  {
   "cell_type": "markdown",
   "metadata": {},
   "source": [
    "São essenciais para manter a coerência em conversas mais longas. Como elas possuem uma memória interna, conseguem lembrar do contexto ao longo das interações do usuário com o chatbot.\n",
    "\n",
    "Benefícios para o chatbot:\n",
    "- Mantém o contexto da conversa, permitindo respostas mais naturais e coerentes.\n",
    "- Ajuda a evitar que o chatbot perca o fio da conversa ao longo de múltiplas interações.\n",
    "- Facilita diálogos personalizados, pois o modelo pode aprender padrões de resposta com base em interações anteriores."
   ]
  }
 ],
 "metadata": {
  "language_info": {
   "name": "python"
  }
 },
 "nbformat": 4,
 "nbformat_minor": 2
}
