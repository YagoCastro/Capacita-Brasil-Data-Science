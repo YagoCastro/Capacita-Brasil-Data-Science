{
 "cells": [
  {
   "cell_type": "markdown",
   "metadata": {},
   "source": [
    "#  Fórum 7: Criando agrupamentos"
   ]
  },
  {
   "cell_type": "markdown",
   "metadata": {},
   "source": [
    "O aprendizado não supervisionado é um método de IA que ajuda a encontrar padrões e agrupar dados sem precisar de rótulos ou categorias definidas. Ele é muito útil para organizar informações quando você não sabe exatamente o que está procurando. Neste fórum, você vai pensar em como usamos o conceito de agrupamento (clustering) para separar itens que têm características parecidas no nosso dia a dia."
   ]
  },
  {
   "cell_type": "markdown",
   "metadata": {},
   "source": [
    "Imagine que você está organizando uma festa e precisa dividir seus amigos em grupos. Porém, você não sabe quem já se conhece e quem nunca se encontrou antes. Para organizar a festa, você decide agrupar os convidados com base em algumas características: idade, interesses e tempo de amizade com você. Com isso, você consegue criar grupos de amigos que provavelmente terão mais coisas em comum para conversar."
   ]
  },
  {
   "cell_type": "markdown",
   "metadata": {},
   "source": [
    "Se você fosse organizar esses grupos, quais características você usaria e por quê? Escolha duas características que ajudariam a separar os grupos de uma maneira que faça sentido para que todos se sintam confortáveis."
   ]
  },
  {
   "cell_type": "markdown",
   "metadata": {},
   "source": [
    "- Interesses em comum: Acredito que essa seria uma característica interessante para a formação dos grupos, pois os participantes poderiam trocar experiências nas áreas de interesse em comum, como esportes, programação ou viagens. Pessoas com hobbies e gostos semelhantes têm mais chances de engajar em conversas naturalmente.\n",
    "\n",
    "- Nível de extroversão: Algumas pessoas são mais tímidas e podem se sentir desconfortáveis em um grupo muito animado, enquanto outras gostam de estar rodeadas por quem fala bastante. Equilibrar os grupos pode ajudar a garantir que ninguém se sinta deslocado."
   ]
  },
  {
   "cell_type": "markdown",
   "metadata": {},
   "source": [
    "Apesar de as características mencionadas não serem uma regra absoluta, já que pessoas que praticam esportes podem achar uma conversa sobre boa alimentação ou marketing interessante por sua relevância em outros âmbitos, elas podem ajudar os convidados a se sentirem mais à vontade, pelo menos inicialmente."
   ]
  }
 ],
 "metadata": {
  "language_info": {
   "name": "python"
  }
 },
 "nbformat": 4,
 "nbformat_minor": 2
}
