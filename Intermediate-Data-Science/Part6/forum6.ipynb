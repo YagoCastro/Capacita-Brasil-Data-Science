{
 "cells": [
  {
   "cell_type": "markdown",
   "metadata": {},
   "source": [
    "Fórum 6: Algoritmos de classificação"
   ]
  },
  {
   "cell_type": "markdown",
   "metadata": {},
   "source": [
    "# Questão 1\n",
    "Você consegue pensar em alguma situação do cotidiano em que seria útil prever uma categoria, como se algo pertence a uma classe específica ou não? Dê um exemplo!"
   ]
  },
  {
   "cell_type": "markdown",
   "metadata": {},
   "source": [
    "- Tem um exemplo que vi aplicado na área do direito, onde os profissionais demoravam muito tempo para classificar o tipo correto do processo (ou algo parecido). Para resolver isso, foi desenvolvido um sistema para automatizar essa tarefa.\n",
    "- Outra aplicação seria a classificação mais específica dos clientes que compram na sua loja, permitindo um atendimento mais exclusivo e promoções direcionadas.\n",
    "- Também podemos ter a detecção de fraudes bancárias.\n",
    "- A manutenção preditiva em equipamentos é outro exemplo relevante."
   ]
  },
  {
   "cell_type": "markdown",
   "metadata": {},
   "source": [
    "# Questão 2\n",
    "Qual você acha que seria o maior desafio de aplicar um algoritmo de classificação em um contexto real, como em saúde ou comércio?"
   ]
  },
  {
   "cell_type": "markdown",
   "metadata": {},
   "source": [
    "Se trantando de uma aplicação no comércio poderia dizer que em grande parte o fator determinante final como objetivo da aplicação seria o rendimento ou retorno financeito, em comparativo com o método já aplicado em questão na empresa, área ou setor. Apesar dos dois âmbitos apresentarem situações desafiadores, e claro considerando que cada aplicação tem seus pontos determinados de características, porém uma aplicação na área da saúde, por exemplo, na detecção de uma doença, está como fator a vida humana, logo a avalição do modelo teria que ser bem analisada e rigorosa, visto que, detectar que uma pessoa na possui a doença sendo que ela apresenta pode impactar em danos irrevesíveis para a vida dessa pessoa."
   ]
  },
  {
   "cell_type": "markdown",
   "metadata": {},
   "source": [
    "# Questão 3\n",
    "Como você vê a importância de treinar e testar um modelo de forma correta? Quais poderiam ser as consequências de não dividir corretamente os dados?"
   ]
  },
  {
   "cell_type": "markdown",
   "metadata": {},
   "source": [
    "Treinar e testar o modelo corretamente é fundamental. Fazendo uma alusão ao livro Como Mentir com Estatística, isso se assemelha à questão de realizar a divisão dos dados de forma inadequada. Ou seja, o modelo pode apresentar um determinado valor de métrica no treinamento, mas, ao ser colocado em produção, seu desempenho pode cair abruptamente. Isso ocorre porque o processo de avaliação foi conduzido de maneira errada.\n",
    "\n",
    "Na ciência de dados, um problema comum nesse contexto é o vazamento de informações, quando dados do teste acabam influenciando o treinamento. Além disso, pode ser que o cientista de dados ou a equipe não tenha verificado a ocorrência de overfitting, ou seja, o modelo aprendeu padrões específicos dos dados de treino, mas não generaliza bem para novos dados."
   ]
  },
  {
   "cell_type": "markdown",
   "metadata": {},
   "source": []
  }
 ],
 "metadata": {
  "language_info": {
   "name": "python"
  }
 },
 "nbformat": 4,
 "nbformat_minor": 2
}
